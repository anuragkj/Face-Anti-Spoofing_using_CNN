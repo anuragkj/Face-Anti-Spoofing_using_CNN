{
 "cells": [
  {
   "cell_type": "code",
   "execution_count": 1,
   "id": "3029e861",
   "metadata": {},
   "outputs": [],
   "source": [
    "import pandas as pd\n",
    "import numpy as np\n",
    "import matplotlib.pyplot as plt\n",
    "import seaborn as sns\n",
    "from sklearn.metrics import classification_report,accuracy_score"
   ]
  },
  {
   "cell_type": "code",
   "execution_count": 2,
   "id": "9564e747",
   "metadata": {},
   "outputs": [],
   "source": [
    "df = pd.read_excel('OutputFile/Output.xlsx')"
   ]
  },
  {
   "cell_type": "code",
   "execution_count": 3,
   "id": "6d5eaaa9",
   "metadata": {},
   "outputs": [
    {
     "data": {
      "text/html": [
       "<div>\n",
       "<style scoped>\n",
       "    .dataframe tbody tr th:only-of-type {\n",
       "        vertical-align: middle;\n",
       "    }\n",
       "\n",
       "    .dataframe tbody tr th {\n",
       "        vertical-align: top;\n",
       "    }\n",
       "\n",
       "    .dataframe thead th {\n",
       "        text-align: right;\n",
       "    }\n",
       "</style>\n",
       "<table border=\"1\" class=\"dataframe\">\n",
       "  <thead>\n",
       "    <tr style=\"text-align: right;\">\n",
       "      <th></th>\n",
       "      <th>File_Path</th>\n",
       "      <th>Train_Test</th>\n",
       "      <th>result_deepfake__Meso_4_DF</th>\n",
       "      <th>result_deepfake__Meso_4_F2F</th>\n",
       "      <th>result_deepfake__Meso_Inc_DF</th>\n",
       "      <th>result_deepfake__Meso_Inc_F2F</th>\n",
       "      <th>Depth</th>\n",
       "      <th>Patch_Surf</th>\n",
       "      <th>Patch_Fasd</th>\n",
       "      <th>Binary_Supervision</th>\n",
       "      <th>Label</th>\n",
       "    </tr>\n",
       "  </thead>\n",
       "  <tbody>\n",
       "    <tr>\n",
       "      <th>0</th>\n",
       "      <td>D:/FAS_Dataset/train-001/train/real/client001_...</td>\n",
       "      <td>train</td>\n",
       "      <td>0.999629</td>\n",
       "      <td>0.947555</td>\n",
       "      <td>0.947555</td>\n",
       "      <td>0.947555</td>\n",
       "      <td>0.734380</td>\n",
       "      <td>0.500000</td>\n",
       "      <td>0.166667</td>\n",
       "      <td>0.809298</td>\n",
       "      <td>1</td>\n",
       "    </tr>\n",
       "    <tr>\n",
       "      <th>1</th>\n",
       "      <td>D:/FAS_Dataset/train-001/train/real/client001_...</td>\n",
       "      <td>train</td>\n",
       "      <td>0.999929</td>\n",
       "      <td>0.985180</td>\n",
       "      <td>0.985180</td>\n",
       "      <td>0.985180</td>\n",
       "      <td>0.415671</td>\n",
       "      <td>0.500000</td>\n",
       "      <td>0.083333</td>\n",
       "      <td>0.891896</td>\n",
       "      <td>1</td>\n",
       "    </tr>\n",
       "    <tr>\n",
       "      <th>2</th>\n",
       "      <td>D:/FAS_Dataset/train-001/train/real/client001_...</td>\n",
       "      <td>train</td>\n",
       "      <td>0.999988</td>\n",
       "      <td>0.992169</td>\n",
       "      <td>0.992169</td>\n",
       "      <td>0.992169</td>\n",
       "      <td>0.551340</td>\n",
       "      <td>0.416667</td>\n",
       "      <td>0.166667</td>\n",
       "      <td>0.747742</td>\n",
       "      <td>1</td>\n",
       "    </tr>\n",
       "    <tr>\n",
       "      <th>3</th>\n",
       "      <td>D:/FAS_Dataset/train-001/train/real/client001_...</td>\n",
       "      <td>train</td>\n",
       "      <td>0.999851</td>\n",
       "      <td>0.192587</td>\n",
       "      <td>0.192587</td>\n",
       "      <td>0.192587</td>\n",
       "      <td>0.265878</td>\n",
       "      <td>0.583333</td>\n",
       "      <td>0.333333</td>\n",
       "      <td>0.762917</td>\n",
       "      <td>1</td>\n",
       "    </tr>\n",
       "    <tr>\n",
       "      <th>4</th>\n",
       "      <td>D:/FAS_Dataset/train-001/train/real/client001_...</td>\n",
       "      <td>train</td>\n",
       "      <td>0.996627</td>\n",
       "      <td>0.255806</td>\n",
       "      <td>0.255806</td>\n",
       "      <td>0.255806</td>\n",
       "      <td>0.700852</td>\n",
       "      <td>0.750000</td>\n",
       "      <td>0.250000</td>\n",
       "      <td>0.884715</td>\n",
       "      <td>1</td>\n",
       "    </tr>\n",
       "    <tr>\n",
       "      <th>5</th>\n",
       "      <td>D:/FAS_Dataset/train-001/train/real/client001_...</td>\n",
       "      <td>train</td>\n",
       "      <td>0.999709</td>\n",
       "      <td>0.916809</td>\n",
       "      <td>0.916809</td>\n",
       "      <td>0.916809</td>\n",
       "      <td>0.723729</td>\n",
       "      <td>0.500000</td>\n",
       "      <td>0.000000</td>\n",
       "      <td>0.827323</td>\n",
       "      <td>1</td>\n",
       "    </tr>\n",
       "    <tr>\n",
       "      <th>6</th>\n",
       "      <td>D:/FAS_Dataset/train-001/train/real/client001_...</td>\n",
       "      <td>train</td>\n",
       "      <td>0.999886</td>\n",
       "      <td>0.995224</td>\n",
       "      <td>0.995224</td>\n",
       "      <td>0.995224</td>\n",
       "      <td>0.391095</td>\n",
       "      <td>0.538462</td>\n",
       "      <td>0.076923</td>\n",
       "      <td>0.930674</td>\n",
       "      <td>1</td>\n",
       "    </tr>\n",
       "    <tr>\n",
       "      <th>7</th>\n",
       "      <td>D:/FAS_Dataset/train-001/train/real/client001_...</td>\n",
       "      <td>train</td>\n",
       "      <td>0.997670</td>\n",
       "      <td>0.982487</td>\n",
       "      <td>0.982487</td>\n",
       "      <td>0.982487</td>\n",
       "      <td>0.503515</td>\n",
       "      <td>0.500000</td>\n",
       "      <td>0.250000</td>\n",
       "      <td>0.705162</td>\n",
       "      <td>1</td>\n",
       "    </tr>\n",
       "    <tr>\n",
       "      <th>8</th>\n",
       "      <td>D:/FAS_Dataset/train-001/train/real/client001_...</td>\n",
       "      <td>train</td>\n",
       "      <td>0.990330</td>\n",
       "      <td>0.529608</td>\n",
       "      <td>0.529608</td>\n",
       "      <td>0.529608</td>\n",
       "      <td>0.400765</td>\n",
       "      <td>0.500000</td>\n",
       "      <td>0.333333</td>\n",
       "      <td>0.810876</td>\n",
       "      <td>1</td>\n",
       "    </tr>\n",
       "    <tr>\n",
       "      <th>9</th>\n",
       "      <td>D:/FAS_Dataset/train-001/train/real/client001_...</td>\n",
       "      <td>train</td>\n",
       "      <td>0.999085</td>\n",
       "      <td>0.661891</td>\n",
       "      <td>0.661891</td>\n",
       "      <td>0.661891</td>\n",
       "      <td>0.715098</td>\n",
       "      <td>0.333333</td>\n",
       "      <td>0.166667</td>\n",
       "      <td>0.844257</td>\n",
       "      <td>1</td>\n",
       "    </tr>\n",
       "  </tbody>\n",
       "</table>\n",
       "</div>"
      ],
      "text/plain": [
       "                                           File_Path Train_Test  \\\n",
       "0  D:/FAS_Dataset/train-001/train/real/client001_...      train   \n",
       "1  D:/FAS_Dataset/train-001/train/real/client001_...      train   \n",
       "2  D:/FAS_Dataset/train-001/train/real/client001_...      train   \n",
       "3  D:/FAS_Dataset/train-001/train/real/client001_...      train   \n",
       "4  D:/FAS_Dataset/train-001/train/real/client001_...      train   \n",
       "5  D:/FAS_Dataset/train-001/train/real/client001_...      train   \n",
       "6  D:/FAS_Dataset/train-001/train/real/client001_...      train   \n",
       "7  D:/FAS_Dataset/train-001/train/real/client001_...      train   \n",
       "8  D:/FAS_Dataset/train-001/train/real/client001_...      train   \n",
       "9  D:/FAS_Dataset/train-001/train/real/client001_...      train   \n",
       "\n",
       "   result_deepfake__Meso_4_DF  result_deepfake__Meso_4_F2F  \\\n",
       "0                    0.999629                     0.947555   \n",
       "1                    0.999929                     0.985180   \n",
       "2                    0.999988                     0.992169   \n",
       "3                    0.999851                     0.192587   \n",
       "4                    0.996627                     0.255806   \n",
       "5                    0.999709                     0.916809   \n",
       "6                    0.999886                     0.995224   \n",
       "7                    0.997670                     0.982487   \n",
       "8                    0.990330                     0.529608   \n",
       "9                    0.999085                     0.661891   \n",
       "\n",
       "   result_deepfake__Meso_Inc_DF  result_deepfake__Meso_Inc_F2F     Depth  \\\n",
       "0                      0.947555                       0.947555  0.734380   \n",
       "1                      0.985180                       0.985180  0.415671   \n",
       "2                      0.992169                       0.992169  0.551340   \n",
       "3                      0.192587                       0.192587  0.265878   \n",
       "4                      0.255806                       0.255806  0.700852   \n",
       "5                      0.916809                       0.916809  0.723729   \n",
       "6                      0.995224                       0.995224  0.391095   \n",
       "7                      0.982487                       0.982487  0.503515   \n",
       "8                      0.529608                       0.529608  0.400765   \n",
       "9                      0.661891                       0.661891  0.715098   \n",
       "\n",
       "   Patch_Surf  Patch_Fasd  Binary_Supervision  Label  \n",
       "0    0.500000    0.166667            0.809298      1  \n",
       "1    0.500000    0.083333            0.891896      1  \n",
       "2    0.416667    0.166667            0.747742      1  \n",
       "3    0.583333    0.333333            0.762917      1  \n",
       "4    0.750000    0.250000            0.884715      1  \n",
       "5    0.500000    0.000000            0.827323      1  \n",
       "6    0.538462    0.076923            0.930674      1  \n",
       "7    0.500000    0.250000            0.705162      1  \n",
       "8    0.500000    0.333333            0.810876      1  \n",
       "9    0.333333    0.166667            0.844257      1  "
      ]
     },
     "execution_count": 3,
     "metadata": {},
     "output_type": "execute_result"
    }
   ],
   "source": [
    "df.head(10)"
   ]
  },
  {
   "cell_type": "code",
   "execution_count": 4,
   "id": "a7aa6943",
   "metadata": {},
   "outputs": [
    {
     "name": "stdout",
     "output_type": "stream",
     "text": [
      "<class 'pandas.core.frame.DataFrame'>\n",
      "RangeIndex: 614 entries, 0 to 613\n",
      "Data columns (total 11 columns):\n",
      " #   Column                         Non-Null Count  Dtype  \n",
      "---  ------                         --------------  -----  \n",
      " 0   File_Path                      614 non-null    object \n",
      " 1   Train_Test                     614 non-null    object \n",
      " 2   result_deepfake__Meso_4_DF     614 non-null    float64\n",
      " 3   result_deepfake__Meso_4_F2F    614 non-null    float64\n",
      " 4   result_deepfake__Meso_Inc_DF   614 non-null    float64\n",
      " 5   result_deepfake__Meso_Inc_F2F  614 non-null    float64\n",
      " 6   Depth                          614 non-null    float64\n",
      " 7   Patch_Surf                     614 non-null    float64\n",
      " 8   Patch_Fasd                     614 non-null    float64\n",
      " 9   Binary_Supervision             609 non-null    float64\n",
      " 10  Label                          614 non-null    int64  \n",
      "dtypes: float64(8), int64(1), object(2)\n",
      "memory usage: 52.9+ KB\n"
     ]
    }
   ],
   "source": [
    "df.info()"
   ]
  },
  {
   "cell_type": "code",
   "execution_count": 5,
   "id": "2c5334d8",
   "metadata": {},
   "outputs": [],
   "source": [
    "df = df.dropna()"
   ]
  },
  {
   "cell_type": "code",
   "execution_count": 6,
   "id": "d2144220",
   "metadata": {},
   "outputs": [],
   "source": [
    "df = df.drop('File_Path', axis=1)"
   ]
  },
  {
   "cell_type": "code",
   "execution_count": 7,
   "id": "18a67778",
   "metadata": {},
   "outputs": [
    {
     "data": {
      "text/html": [
       "<div>\n",
       "<style scoped>\n",
       "    .dataframe tbody tr th:only-of-type {\n",
       "        vertical-align: middle;\n",
       "    }\n",
       "\n",
       "    .dataframe tbody tr th {\n",
       "        vertical-align: top;\n",
       "    }\n",
       "\n",
       "    .dataframe thead th {\n",
       "        text-align: right;\n",
       "    }\n",
       "</style>\n",
       "<table border=\"1\" class=\"dataframe\">\n",
       "  <thead>\n",
       "    <tr style=\"text-align: right;\">\n",
       "      <th></th>\n",
       "      <th>Train_Test</th>\n",
       "      <th>result_deepfake__Meso_4_DF</th>\n",
       "      <th>result_deepfake__Meso_4_F2F</th>\n",
       "      <th>result_deepfake__Meso_Inc_DF</th>\n",
       "      <th>result_deepfake__Meso_Inc_F2F</th>\n",
       "      <th>Depth</th>\n",
       "      <th>Patch_Surf</th>\n",
       "      <th>Patch_Fasd</th>\n",
       "      <th>Binary_Supervision</th>\n",
       "      <th>Label</th>\n",
       "    </tr>\n",
       "  </thead>\n",
       "  <tbody>\n",
       "    <tr>\n",
       "      <th>0</th>\n",
       "      <td>train</td>\n",
       "      <td>0.999629</td>\n",
       "      <td>0.947555</td>\n",
       "      <td>0.947555</td>\n",
       "      <td>0.947555</td>\n",
       "      <td>0.734380</td>\n",
       "      <td>0.500000</td>\n",
       "      <td>0.166667</td>\n",
       "      <td>0.809298</td>\n",
       "      <td>1</td>\n",
       "    </tr>\n",
       "    <tr>\n",
       "      <th>1</th>\n",
       "      <td>train</td>\n",
       "      <td>0.999929</td>\n",
       "      <td>0.985180</td>\n",
       "      <td>0.985180</td>\n",
       "      <td>0.985180</td>\n",
       "      <td>0.415671</td>\n",
       "      <td>0.500000</td>\n",
       "      <td>0.083333</td>\n",
       "      <td>0.891896</td>\n",
       "      <td>1</td>\n",
       "    </tr>\n",
       "    <tr>\n",
       "      <th>2</th>\n",
       "      <td>train</td>\n",
       "      <td>0.999988</td>\n",
       "      <td>0.992169</td>\n",
       "      <td>0.992169</td>\n",
       "      <td>0.992169</td>\n",
       "      <td>0.551340</td>\n",
       "      <td>0.416667</td>\n",
       "      <td>0.166667</td>\n",
       "      <td>0.747742</td>\n",
       "      <td>1</td>\n",
       "    </tr>\n",
       "    <tr>\n",
       "      <th>3</th>\n",
       "      <td>train</td>\n",
       "      <td>0.999851</td>\n",
       "      <td>0.192587</td>\n",
       "      <td>0.192587</td>\n",
       "      <td>0.192587</td>\n",
       "      <td>0.265878</td>\n",
       "      <td>0.583333</td>\n",
       "      <td>0.333333</td>\n",
       "      <td>0.762917</td>\n",
       "      <td>1</td>\n",
       "    </tr>\n",
       "    <tr>\n",
       "      <th>4</th>\n",
       "      <td>train</td>\n",
       "      <td>0.996627</td>\n",
       "      <td>0.255806</td>\n",
       "      <td>0.255806</td>\n",
       "      <td>0.255806</td>\n",
       "      <td>0.700852</td>\n",
       "      <td>0.750000</td>\n",
       "      <td>0.250000</td>\n",
       "      <td>0.884715</td>\n",
       "      <td>1</td>\n",
       "    </tr>\n",
       "  </tbody>\n",
       "</table>\n",
       "</div>"
      ],
      "text/plain": [
       "  Train_Test  result_deepfake__Meso_4_DF  result_deepfake__Meso_4_F2F  \\\n",
       "0      train                    0.999629                     0.947555   \n",
       "1      train                    0.999929                     0.985180   \n",
       "2      train                    0.999988                     0.992169   \n",
       "3      train                    0.999851                     0.192587   \n",
       "4      train                    0.996627                     0.255806   \n",
       "\n",
       "   result_deepfake__Meso_Inc_DF  result_deepfake__Meso_Inc_F2F     Depth  \\\n",
       "0                      0.947555                       0.947555  0.734380   \n",
       "1                      0.985180                       0.985180  0.415671   \n",
       "2                      0.992169                       0.992169  0.551340   \n",
       "3                      0.192587                       0.192587  0.265878   \n",
       "4                      0.255806                       0.255806  0.700852   \n",
       "\n",
       "   Patch_Surf  Patch_Fasd  Binary_Supervision  Label  \n",
       "0    0.500000    0.166667            0.809298      1  \n",
       "1    0.500000    0.083333            0.891896      1  \n",
       "2    0.416667    0.166667            0.747742      1  \n",
       "3    0.583333    0.333333            0.762917      1  \n",
       "4    0.750000    0.250000            0.884715      1  "
      ]
     },
     "execution_count": 7,
     "metadata": {},
     "output_type": "execute_result"
    }
   ],
   "source": [
    "df.head()"
   ]
  },
  {
   "cell_type": "code",
   "execution_count": 8,
   "id": "0843ce64",
   "metadata": {},
   "outputs": [
    {
     "data": {
      "text/plain": [
       "train    311\n",
       "test     298\n",
       "Name: Train_Test, dtype: int64"
      ]
     },
     "execution_count": 8,
     "metadata": {},
     "output_type": "execute_result"
    }
   ],
   "source": [
    "df['Train_Test'].value_counts()"
   ]
  },
  {
   "cell_type": "code",
   "execution_count": 9,
   "id": "c6215668",
   "metadata": {},
   "outputs": [
    {
     "data": {
      "text/plain": [
       "0    381\n",
       "1    228\n",
       "Name: Label, dtype: int64"
      ]
     },
     "execution_count": 9,
     "metadata": {},
     "output_type": "execute_result"
    }
   ],
   "source": [
    "df['Label'].value_counts()"
   ]
  },
  {
   "cell_type": "code",
   "execution_count": 10,
   "id": "c6a28774",
   "metadata": {},
   "outputs": [],
   "source": [
    "# train = df[df.Train_Test == 'train']\n",
    "# test = df[df.Train_Test == 'test']\n",
    "df = df.drop(['Train_Test'], axis=1)"
   ]
  },
  {
   "cell_type": "code",
   "execution_count": 11,
   "id": "9c8124c1",
   "metadata": {},
   "outputs": [
    {
     "data": {
      "text/html": [
       "<div>\n",
       "<style scoped>\n",
       "    .dataframe tbody tr th:only-of-type {\n",
       "        vertical-align: middle;\n",
       "    }\n",
       "\n",
       "    .dataframe tbody tr th {\n",
       "        vertical-align: top;\n",
       "    }\n",
       "\n",
       "    .dataframe thead th {\n",
       "        text-align: right;\n",
       "    }\n",
       "</style>\n",
       "<table border=\"1\" class=\"dataframe\">\n",
       "  <thead>\n",
       "    <tr style=\"text-align: right;\">\n",
       "      <th></th>\n",
       "      <th>result_deepfake__Meso_4_DF</th>\n",
       "      <th>result_deepfake__Meso_4_F2F</th>\n",
       "      <th>result_deepfake__Meso_Inc_DF</th>\n",
       "      <th>result_deepfake__Meso_Inc_F2F</th>\n",
       "      <th>Depth</th>\n",
       "      <th>Patch_Surf</th>\n",
       "      <th>Patch_Fasd</th>\n",
       "      <th>Binary_Supervision</th>\n",
       "    </tr>\n",
       "  </thead>\n",
       "  <tbody>\n",
       "    <tr>\n",
       "      <th>0</th>\n",
       "      <td>0.999629</td>\n",
       "      <td>0.947555</td>\n",
       "      <td>0.947555</td>\n",
       "      <td>0.947555</td>\n",
       "      <td>0.734380</td>\n",
       "      <td>0.500000</td>\n",
       "      <td>0.166667</td>\n",
       "      <td>0.809298</td>\n",
       "    </tr>\n",
       "    <tr>\n",
       "      <th>1</th>\n",
       "      <td>0.999929</td>\n",
       "      <td>0.985180</td>\n",
       "      <td>0.985180</td>\n",
       "      <td>0.985180</td>\n",
       "      <td>0.415671</td>\n",
       "      <td>0.500000</td>\n",
       "      <td>0.083333</td>\n",
       "      <td>0.891896</td>\n",
       "    </tr>\n",
       "    <tr>\n",
       "      <th>2</th>\n",
       "      <td>0.999988</td>\n",
       "      <td>0.992169</td>\n",
       "      <td>0.992169</td>\n",
       "      <td>0.992169</td>\n",
       "      <td>0.551340</td>\n",
       "      <td>0.416667</td>\n",
       "      <td>0.166667</td>\n",
       "      <td>0.747742</td>\n",
       "    </tr>\n",
       "    <tr>\n",
       "      <th>3</th>\n",
       "      <td>0.999851</td>\n",
       "      <td>0.192587</td>\n",
       "      <td>0.192587</td>\n",
       "      <td>0.192587</td>\n",
       "      <td>0.265878</td>\n",
       "      <td>0.583333</td>\n",
       "      <td>0.333333</td>\n",
       "      <td>0.762917</td>\n",
       "    </tr>\n",
       "    <tr>\n",
       "      <th>4</th>\n",
       "      <td>0.996627</td>\n",
       "      <td>0.255806</td>\n",
       "      <td>0.255806</td>\n",
       "      <td>0.255806</td>\n",
       "      <td>0.700852</td>\n",
       "      <td>0.750000</td>\n",
       "      <td>0.250000</td>\n",
       "      <td>0.884715</td>\n",
       "    </tr>\n",
       "    <tr>\n",
       "      <th>...</th>\n",
       "      <td>...</td>\n",
       "      <td>...</td>\n",
       "      <td>...</td>\n",
       "      <td>...</td>\n",
       "      <td>...</td>\n",
       "      <td>...</td>\n",
       "      <td>...</td>\n",
       "      <td>...</td>\n",
       "    </tr>\n",
       "    <tr>\n",
       "      <th>609</th>\n",
       "      <td>0.983972</td>\n",
       "      <td>0.980099</td>\n",
       "      <td>0.980099</td>\n",
       "      <td>0.980099</td>\n",
       "      <td>0.582069</td>\n",
       "      <td>0.833333</td>\n",
       "      <td>0.166667</td>\n",
       "      <td>0.956984</td>\n",
       "    </tr>\n",
       "    <tr>\n",
       "      <th>610</th>\n",
       "      <td>0.999484</td>\n",
       "      <td>0.957286</td>\n",
       "      <td>0.957286</td>\n",
       "      <td>0.957286</td>\n",
       "      <td>0.520344</td>\n",
       "      <td>0.833333</td>\n",
       "      <td>0.000000</td>\n",
       "      <td>0.754036</td>\n",
       "    </tr>\n",
       "    <tr>\n",
       "      <th>611</th>\n",
       "      <td>0.996753</td>\n",
       "      <td>0.976876</td>\n",
       "      <td>0.976876</td>\n",
       "      <td>0.976876</td>\n",
       "      <td>0.522648</td>\n",
       "      <td>0.750000</td>\n",
       "      <td>0.083333</td>\n",
       "      <td>0.698586</td>\n",
       "    </tr>\n",
       "    <tr>\n",
       "      <th>612</th>\n",
       "      <td>0.999393</td>\n",
       "      <td>0.968240</td>\n",
       "      <td>0.968240</td>\n",
       "      <td>0.968240</td>\n",
       "      <td>0.724197</td>\n",
       "      <td>0.666667</td>\n",
       "      <td>0.166667</td>\n",
       "      <td>0.938824</td>\n",
       "    </tr>\n",
       "    <tr>\n",
       "      <th>613</th>\n",
       "      <td>0.989251</td>\n",
       "      <td>0.960951</td>\n",
       "      <td>0.960951</td>\n",
       "      <td>0.960951</td>\n",
       "      <td>0.621734</td>\n",
       "      <td>0.833333</td>\n",
       "      <td>0.000000</td>\n",
       "      <td>0.881152</td>\n",
       "    </tr>\n",
       "  </tbody>\n",
       "</table>\n",
       "<p>609 rows × 8 columns</p>\n",
       "</div>"
      ],
      "text/plain": [
       "     result_deepfake__Meso_4_DF  result_deepfake__Meso_4_F2F  \\\n",
       "0                      0.999629                     0.947555   \n",
       "1                      0.999929                     0.985180   \n",
       "2                      0.999988                     0.992169   \n",
       "3                      0.999851                     0.192587   \n",
       "4                      0.996627                     0.255806   \n",
       "..                          ...                          ...   \n",
       "609                    0.983972                     0.980099   \n",
       "610                    0.999484                     0.957286   \n",
       "611                    0.996753                     0.976876   \n",
       "612                    0.999393                     0.968240   \n",
       "613                    0.989251                     0.960951   \n",
       "\n",
       "     result_deepfake__Meso_Inc_DF  result_deepfake__Meso_Inc_F2F     Depth  \\\n",
       "0                        0.947555                       0.947555  0.734380   \n",
       "1                        0.985180                       0.985180  0.415671   \n",
       "2                        0.992169                       0.992169  0.551340   \n",
       "3                        0.192587                       0.192587  0.265878   \n",
       "4                        0.255806                       0.255806  0.700852   \n",
       "..                            ...                            ...       ...   \n",
       "609                      0.980099                       0.980099  0.582069   \n",
       "610                      0.957286                       0.957286  0.520344   \n",
       "611                      0.976876                       0.976876  0.522648   \n",
       "612                      0.968240                       0.968240  0.724197   \n",
       "613                      0.960951                       0.960951  0.621734   \n",
       "\n",
       "     Patch_Surf  Patch_Fasd  Binary_Supervision  \n",
       "0      0.500000    0.166667            0.809298  \n",
       "1      0.500000    0.083333            0.891896  \n",
       "2      0.416667    0.166667            0.747742  \n",
       "3      0.583333    0.333333            0.762917  \n",
       "4      0.750000    0.250000            0.884715  \n",
       "..          ...         ...                 ...  \n",
       "609    0.833333    0.166667            0.956984  \n",
       "610    0.833333    0.000000            0.754036  \n",
       "611    0.750000    0.083333            0.698586  \n",
       "612    0.666667    0.166667            0.938824  \n",
       "613    0.833333    0.000000            0.881152  \n",
       "\n",
       "[609 rows x 8 columns]"
      ]
     },
     "execution_count": 11,
     "metadata": {},
     "output_type": "execute_result"
    }
   ],
   "source": [
    "from sklearn.model_selection import train_test_split\n",
    "train = df.drop('Label', axis=1)  # Assuming 'Label' is the column you want to predict\n",
    "test = df['Label']\n",
    "\n",
    "X_train, X_test, y_train, y_test = train_test_split(train, test, test_size=0.2, random_state=42)\n",
    "train "
   ]
  },
  {
   "cell_type": "code",
   "execution_count": 12,
   "id": "57225eb4",
   "metadata": {},
   "outputs": [
    {
     "name": "stdout",
     "output_type": "stream",
     "text": [
      "<class 'pandas.core.frame.DataFrame'>\n",
      "Int64Index: 487 entries, 155 to 102\n",
      "Data columns (total 8 columns):\n",
      " #   Column                         Non-Null Count  Dtype  \n",
      "---  ------                         --------------  -----  \n",
      " 0   result_deepfake__Meso_4_DF     487 non-null    float64\n",
      " 1   result_deepfake__Meso_4_F2F    487 non-null    float64\n",
      " 2   result_deepfake__Meso_Inc_DF   487 non-null    float64\n",
      " 3   result_deepfake__Meso_Inc_F2F  487 non-null    float64\n",
      " 4   Depth                          487 non-null    float64\n",
      " 5   Patch_Surf                     487 non-null    float64\n",
      " 6   Patch_Fasd                     487 non-null    float64\n",
      " 7   Binary_Supervision             487 non-null    float64\n",
      "dtypes: float64(8)\n",
      "memory usage: 34.2 KB\n"
     ]
    }
   ],
   "source": [
    "X_train.info()"
   ]
  },
  {
   "cell_type": "markdown",
   "id": "5ad65051",
   "metadata": {},
   "source": [
    "## Random Forest (all variables)"
   ]
  },
  {
   "cell_type": "code",
   "execution_count": 13,
   "id": "bf670ad6",
   "metadata": {},
   "outputs": [],
   "source": [
    "from sklearn.ensemble import RandomForestClassifier"
   ]
  },
  {
   "cell_type": "code",
   "execution_count": 14,
   "id": "952c8b0e",
   "metadata": {},
   "outputs": [],
   "source": [
    "test_error = []\n",
    "\n",
    "for n in range(1,100):\n",
    "    model = RandomForestClassifier(n_estimators=n,max_features='sqrt')\n",
    "    model.fit(X_train,y_train)\n",
    "    test_preds = model.predict(X_test)\n",
    "    test_error.append(1-accuracy_score(test_preds,y_test))"
   ]
  },
  {
   "cell_type": "code",
   "execution_count": 15,
   "id": "43b4e7fa",
   "metadata": {},
   "outputs": [
    {
     "data": {
      "text/plain": [
       "<matplotlib.legend.Legend at 0x1d172fe4040>"
      ]
     },
     "execution_count": 15,
     "metadata": {},
     "output_type": "execute_result"
    },
    {
     "data": {
      "image/png": "[encoded data removed]",
      "text/plain": [
       "<Figure size 432x288 with 1 Axes>"
      ]
     },
     "metadata": {
      "needs_background": "light"
     },
     "output_type": "display_data"
    }
   ],
   "source": [
    "plt.plot(range(1,100),test_error,label='Test Error')\n",
    "plt.legend()"
   ]
  },
  {
   "cell_type": "code",
   "execution_count": 16,
   "id": "afa7022a",
   "metadata": {},
   "outputs": [],
   "source": [
    "from sklearn.model_selection import GridSearchCV"
   ]
  },
  {
   "cell_type": "code",
   "execution_count": 17,
   "id": "a8ee68fa",
   "metadata": {},
   "outputs": [],
   "source": [
    "n_estimators=[18,64,85,128]\n",
    "max_features= [2,3,4]\n",
    "bootstrap = [True,False]\n",
    "oob_score = [True,False]"
   ]
  },
  {
   "cell_type": "code",
   "execution_count": 18,
   "id": "e7615322",
   "metadata": {},
   "outputs": [],
   "source": [
    "param_grid = {'n_estimators':n_estimators,\n",
    "             'max_features':max_features,\n",
    "             'bootstrap':bootstrap,\n",
    "             'oob_score':oob_score}"
   ]
  },
  {
   "cell_type": "code",
   "execution_count": 19,
   "id": "6ecd739a",
   "metadata": {},
   "outputs": [],
   "source": [
    "rfc = RandomForestClassifier()\n",
    "grid = GridSearchCV(rfc,param_grid)"
   ]
  },
  {
   "cell_type": "code",
   "execution_count": 20,
   "id": "a9f9f72d",
   "metadata": {},
   "outputs": [
    {
     "name": "stderr",
     "output_type": "stream",
     "text": [
      "C:\\Users\\anura\\anaconda3\\lib\\site-packages\\sklearn\\ensemble\\_forest.py:541: UserWarning: Some inputs do not have OOB scores. This probably means too few trees were used to compute any reliable oob estimates.\n",
      "  warn(\"Some inputs do not have OOB scores. \"\n",
      "C:\\Users\\anura\\anaconda3\\lib\\site-packages\\sklearn\\ensemble\\_forest.py:545: RuntimeWarning: invalid value encountered in true_divide\n",
      "  decision = (predictions[k] /\n",
      "C:\\Users\\anura\\anaconda3\\lib\\site-packages\\sklearn\\model_selection\\_validation.py:610: FitFailedWarning: Estimator fit failed. The score on this train-test partition for these parameters will be set to nan. Details: \n",
      "Traceback (most recent call last):\n",
      "  File \"C:\\Users\\anura\\anaconda3\\lib\\site-packages\\sklearn\\model_selection\\_validation.py\", line 593, in _fit_and_score\n",
      "    estimator.fit(X_train, y_train, **fit_params)\n",
      "  File \"C:\\Users\\anura\\anaconda3\\lib\\site-packages\\sklearn\\ensemble\\_forest.py\", line 352, in fit\n",
      "    raise ValueError(\"Out of bag estimation only available\"\n",
      "ValueError: Out of bag estimation only available if bootstrap=True\n",
      "\n",
      "  warnings.warn(\"Estimator fit failed. The score on this train-test\"\n",
      "C:\\Users\\anura\\anaconda3\\lib\\site-packages\\sklearn\\model_selection\\_validation.py:610: FitFailedWarning: Estimator fit failed. The score on this train-test partition for these parameters will be set to nan. Details: \n",
      "Traceback (most recent call last):\n",
      "  File \"C:\\Users\\anura\\anaconda3\\lib\\site-packages\\sklearn\\model_selection\\_validation.py\", line 593, in _fit_and_score\n",
      "    estimator.fit(X_train, y_train, **fit_params)\n",
      "  File \"C:\\Users\\anura\\anaconda3\\lib\\site-packages\\sklearn\\ensemble\\_forest.py\", line 352, in fit\n",
      "    raise ValueError(\"Out of bag estimation only available\"\n",
      "ValueError: Out of bag estimation only available if bootstrap=True\n",
      "\n",
      "  warnings.warn(\"Estimator fit failed. The score on this train-test\"\n",
      "C:\\Users\\anura\\anaconda3\\lib\\site-packages\\sklearn\\model_selection\\_validation.py:610: FitFailedWarning: Estimator fit failed. The score on this train-test partition for these parameters will be set to nan. Details: \n",
      "Traceback (most recent call last):\n",
      "  File \"C:\\Users\\anura\\anaconda3\\lib\\site-packages\\sklearn\\model_selection\\_validation.py\", line 593, in _fit_and_score\n",
      "    estimator.fit(X_train, y_train, **fit_params)\n",
      "  File \"C:\\Users\\anura\\anaconda3\\lib\\site-packages\\sklearn\\ensemble\\_forest.py\", line 352, in fit\n",
      "    raise ValueError(\"Out of bag estimation only available\"\n",
      "ValueError: Out of bag estimation only available if bootstrap=True\n",
      "\n",
      "  warnings.warn(\"Estimator fit failed. The score on this train-test\"\n",
      "C:\\Users\\anura\\anaconda3\\lib\\site-packages\\sklearn\\model_selection\\_validation.py:610: FitFailedWarning: Estimator fit failed. The score on this train-test partition for these parameters will be set to nan. Details: \n",
      "Traceback (most recent call last):\n",
      "  File \"C:\\Users\\anura\\anaconda3\\lib\\site-packages\\sklearn\\model_selection\\_validation.py\", line 593, in _fit_and_score\n",
      "    estimator.fit(X_train, y_train, **fit_params)\n",
      "  File \"C:\\Users\\anura\\anaconda3\\lib\\site-packages\\sklearn\\ensemble\\_forest.py\", line 352, in fit\n",
      "    raise ValueError(\"Out of bag estimation only available\"\n",
      "ValueError: Out of bag estimation only available if bootstrap=True\n",
      "\n",
      "  warnings.warn(\"Estimator fit failed. The score on this train-test\"\n",
      "C:\\Users\\anura\\anaconda3\\lib\\site-packages\\sklearn\\model_selection\\_validation.py:610: FitFailedWarning: Estimator fit failed. The score on this train-test partition for these parameters will be set to nan. Details: \n",
      "Traceback (most recent call last):\n",
      "  File \"C:\\Users\\anura\\anaconda3\\lib\\site-packages\\sklearn\\model_selection\\_validation.py\", line 593, in _fit_and_score\n",
      "    estimator.fit(X_train, y_train, **fit_params)\n",
      "  File \"C:\\Users\\anura\\anaconda3\\lib\\site-packages\\sklearn\\ensemble\\_forest.py\", line 352, in fit\n",
      "    raise ValueError(\"Out of bag estimation only available\"\n",
      "ValueError: Out of bag estimation only available if bootstrap=True\n",
      "\n",
      "  warnings.warn(\"Estimator fit failed. The score on this train-test\"\n",
      "C:\\Users\\anura\\anaconda3\\lib\\site-packages\\sklearn\\model_selection\\_validation.py:610: FitFailedWarning: Estimator fit failed. The score on this train-test partition for these parameters will be set to nan. Details: \n",
      "Traceback (most recent call last):\n",
      "  File \"C:\\Users\\anura\\anaconda3\\lib\\site-packages\\sklearn\\model_selection\\_validation.py\", line 593, in _fit_and_score\n",
      "    estimator.fit(X_train, y_train, **fit_params)\n",
      "  File \"C:\\Users\\anura\\anaconda3\\lib\\site-packages\\sklearn\\ensemble\\_forest.py\", line 352, in fit\n",
      "    raise ValueError(\"Out of bag estimation only available\"\n",
      "ValueError: Out of bag estimation only available if bootstrap=True\n",
      "\n",
      "  warnings.warn(\"Estimator fit failed. The score on this train-test\"\n",
      "C:\\Users\\anura\\anaconda3\\lib\\site-packages\\sklearn\\model_selection\\_validation.py:610: FitFailedWarning: Estimator fit failed. The score on this train-test partition for these parameters will be set to nan. Details: \n",
      "Traceback (most recent call last):\n",
      "  File \"C:\\Users\\anura\\anaconda3\\lib\\site-packages\\sklearn\\model_selection\\_validation.py\", line 593, in _fit_and_score\n",
      "    estimator.fit(X_train, y_train, **fit_params)\n",
      "  File \"C:\\Users\\anura\\anaconda3\\lib\\site-packages\\sklearn\\ensemble\\_forest.py\", line 352, in fit\n",
      "    raise ValueError(\"Out of bag estimation only available\"\n",
      "ValueError: Out of bag estimation only available if bootstrap=True\n",
      "\n",
      "  warnings.warn(\"Estimator fit failed. The score on this train-test\"\n",
      "C:\\Users\\anura\\anaconda3\\lib\\site-packages\\sklearn\\model_selection\\_validation.py:610: FitFailedWarning: Estimator fit failed. The score on this train-test partition for these parameters will be set to nan. Details: \n",
      "Traceback (most recent call last):\n",
      "  File \"C:\\Users\\anura\\anaconda3\\lib\\site-packages\\sklearn\\model_selection\\_validation.py\", line 593, in _fit_and_score\n",
      "    estimator.fit(X_train, y_train, **fit_params)\n",
      "  File \"C:\\Users\\anura\\anaconda3\\lib\\site-packages\\sklearn\\ensemble\\_forest.py\", line 352, in fit\n",
      "    raise ValueError(\"Out of bag estimation only available\"\n",
      "ValueError: Out of bag estimation only available if bootstrap=True\n",
      "\n",
      "  warnings.warn(\"Estimator fit failed. The score on this train-test\"\n",
      "C:\\Users\\anura\\anaconda3\\lib\\site-packages\\sklearn\\model_selection\\_validation.py:610: FitFailedWarning: Estimator fit failed. The score on this train-test partition for these parameters will be set to nan. Details: \n",
      "Traceback (most recent call last):\n",
      "  File \"C:\\Users\\anura\\anaconda3\\lib\\site-packages\\sklearn\\model_selection\\_validation.py\", line 593, in _fit_and_score\n",
      "    estimator.fit(X_train, y_train, **fit_params)\n",
      "  File \"C:\\Users\\anura\\anaconda3\\lib\\site-packages\\sklearn\\ensemble\\_forest.py\", line 352, in fit\n",
      "    raise ValueError(\"Out of bag estimation only available\"\n",
      "ValueError: Out of bag estimation only available if bootstrap=True\n",
      "\n",
      "  warnings.warn(\"Estimator fit failed. The score on this train-test\"\n",
      "C:\\Users\\anura\\anaconda3\\lib\\site-packages\\sklearn\\model_selection\\_validation.py:610: FitFailedWarning: Estimator fit failed. The score on this train-test partition for these parameters will be set to nan. Details: \n",
      "Traceback (most recent call last):\n",
      "  File \"C:\\Users\\anura\\anaconda3\\lib\\site-packages\\sklearn\\model_selection\\_validation.py\", line 593, in _fit_and_score\n",
      "    estimator.fit(X_train, y_train, **fit_params)\n",
      "  File \"C:\\Users\\anura\\anaconda3\\lib\\site-packages\\sklearn\\ensemble\\_forest.py\", line 352, in fit\n",
      "    raise ValueError(\"Out of bag estimation only available\"\n",
      "ValueError: Out of bag estimation only available if bootstrap=True\n",
      "\n",
      "  warnings.warn(\"Estimator fit failed. The score on this train-test\"\n",
      "C:\\Users\\anura\\anaconda3\\lib\\site-packages\\sklearn\\model_selection\\_validation.py:610: FitFailedWarning: Estimator fit failed. The score on this train-test partition for these parameters will be set to nan. Details: \n",
      "Traceback (most recent call last):\n",
      "  File \"C:\\Users\\anura\\anaconda3\\lib\\site-packages\\sklearn\\model_selection\\_validation.py\", line 593, in _fit_and_score\n",
      "    estimator.fit(X_train, y_train, **fit_params)\n",
      "  File \"C:\\Users\\anura\\anaconda3\\lib\\site-packages\\sklearn\\ensemble\\_forest.py\", line 352, in fit\n",
      "    raise ValueError(\"Out of bag estimation only available\"\n",
      "ValueError: Out of bag estimation only available if bootstrap=True\n",
      "\n",
      "  warnings.warn(\"Estimator fit failed. The score on this train-test\"\n",
      "C:\\Users\\anura\\anaconda3\\lib\\site-packages\\sklearn\\model_selection\\_validation.py:610: FitFailedWarning: Estimator fit failed. The score on this train-test partition for these parameters will be set to nan. Details: \n",
      "Traceback (most recent call last):\n",
      "  File \"C:\\Users\\anura\\anaconda3\\lib\\site-packages\\sklearn\\model_selection\\_validation.py\", line 593, in _fit_and_score\n",
      "    estimator.fit(X_train, y_train, **fit_params)\n",
      "  File \"C:\\Users\\anura\\anaconda3\\lib\\site-packages\\sklearn\\ensemble\\_forest.py\", line 352, in fit\n",
      "    raise ValueError(\"Out of bag estimation only available\"\n",
      "ValueError: Out of bag estimation only available if bootstrap=True\n",
      "\n",
      "  warnings.warn(\"Estimator fit failed. The score on this train-test\"\n",
      "C:\\Users\\anura\\anaconda3\\lib\\site-packages\\sklearn\\model_selection\\_validation.py:610: FitFailedWarning: Estimator fit failed. The score on this train-test partition for these parameters will be set to nan. Details: \n",
      "Traceback (most recent call last):\n",
      "  File \"C:\\Users\\anura\\anaconda3\\lib\\site-packages\\sklearn\\model_selection\\_validation.py\", line 593, in _fit_and_score\n",
      "    estimator.fit(X_train, y_train, **fit_params)\n",
      "  File \"C:\\Users\\anura\\anaconda3\\lib\\site-packages\\sklearn\\ensemble\\_forest.py\", line 352, in fit\n",
      "    raise ValueError(\"Out of bag estimation only available\"\n",
      "ValueError: Out of bag estimation only available if bootstrap=True\n",
      "\n",
      "  warnings.warn(\"Estimator fit failed. The score on this train-test\"\n",
      "C:\\Users\\anura\\anaconda3\\lib\\site-packages\\sklearn\\model_selection\\_validation.py:610: FitFailedWarning: Estimator fit failed. The score on this train-test partition for these parameters will be set to nan. Details: \n",
      "Traceback (most recent call last):\n",
      "  File \"C:\\Users\\anura\\anaconda3\\lib\\site-packages\\sklearn\\model_selection\\_validation.py\", line 593, in _fit_and_score\n",
      "    estimator.fit(X_train, y_train, **fit_params)\n",
      "  File \"C:\\Users\\anura\\anaconda3\\lib\\site-packages\\sklearn\\ensemble\\_forest.py\", line 352, in fit\n",
      "    raise ValueError(\"Out of bag estimation only available\"\n",
      "ValueError: Out of bag estimation only available if bootstrap=True\n",
      "\n",
      "  warnings.warn(\"Estimator fit failed. The score on this train-test\"\n",
      "C:\\Users\\anura\\anaconda3\\lib\\site-packages\\sklearn\\model_selection\\_validation.py:610: FitFailedWarning: Estimator fit failed. The score on this train-test partition for these parameters will be set to nan. Details: \n",
      "Traceback (most recent call last):\n",
      "  File \"C:\\Users\\anura\\anaconda3\\lib\\site-packages\\sklearn\\model_selection\\_validation.py\", line 593, in _fit_and_score\n",
      "    estimator.fit(X_train, y_train, **fit_params)\n",
      "  File \"C:\\Users\\anura\\anaconda3\\lib\\site-packages\\sklearn\\ensemble\\_forest.py\", line 352, in fit\n",
      "    raise ValueError(\"Out of bag estimation only available\"\n",
      "ValueError: Out of bag estimation only available if bootstrap=True\n",
      "\n",
      "  warnings.warn(\"Estimator fit failed. The score on this train-test\"\n"
     ]
    },
    {
     "name": "stderr",
     "output_type": "stream",
     "text": [
      "C:\\Users\\anura\\anaconda3\\lib\\site-packages\\sklearn\\model_selection\\_validation.py:610: FitFailedWarning: Estimator fit failed. The score on this train-test partition for these parameters will be set to nan. Details: \n",
      "Traceback (most recent call last):\n",
      "  File \"C:\\Users\\anura\\anaconda3\\lib\\site-packages\\sklearn\\model_selection\\_validation.py\", line 593, in _fit_and_score\n",
      "    estimator.fit(X_train, y_train, **fit_params)\n",
      "  File \"C:\\Users\\anura\\anaconda3\\lib\\site-packages\\sklearn\\ensemble\\_forest.py\", line 352, in fit\n",
      "    raise ValueError(\"Out of bag estimation only available\"\n",
      "ValueError: Out of bag estimation only available if bootstrap=True\n",
      "\n",
      "  warnings.warn(\"Estimator fit failed. The score on this train-test\"\n",
      "C:\\Users\\anura\\anaconda3\\lib\\site-packages\\sklearn\\model_selection\\_validation.py:610: FitFailedWarning: Estimator fit failed. The score on this train-test partition for these parameters will be set to nan. Details: \n",
      "Traceback (most recent call last):\n",
      "  File \"C:\\Users\\anura\\anaconda3\\lib\\site-packages\\sklearn\\model_selection\\_validation.py\", line 593, in _fit_and_score\n",
      "    estimator.fit(X_train, y_train, **fit_params)\n",
      "  File \"C:\\Users\\anura\\anaconda3\\lib\\site-packages\\sklearn\\ensemble\\_forest.py\", line 352, in fit\n",
      "    raise ValueError(\"Out of bag estimation only available\"\n",
      "ValueError: Out of bag estimation only available if bootstrap=True\n",
      "\n",
      "  warnings.warn(\"Estimator fit failed. The score on this train-test\"\n",
      "C:\\Users\\anura\\anaconda3\\lib\\site-packages\\sklearn\\model_selection\\_validation.py:610: FitFailedWarning: Estimator fit failed. The score on this train-test partition for these parameters will be set to nan. Details: \n",
      "Traceback (most recent call last):\n",
      "  File \"C:\\Users\\anura\\anaconda3\\lib\\site-packages\\sklearn\\model_selection\\_validation.py\", line 593, in _fit_and_score\n",
      "    estimator.fit(X_train, y_train, **fit_params)\n",
      "  File \"C:\\Users\\anura\\anaconda3\\lib\\site-packages\\sklearn\\ensemble\\_forest.py\", line 352, in fit\n",
      "    raise ValueError(\"Out of bag estimation only available\"\n",
      "ValueError: Out of bag estimation only available if bootstrap=True\n",
      "\n",
      "  warnings.warn(\"Estimator fit failed. The score on this train-test\"\n",
      "C:\\Users\\anura\\anaconda3\\lib\\site-packages\\sklearn\\model_selection\\_validation.py:610: FitFailedWarning: Estimator fit failed. The score on this train-test partition for these parameters will be set to nan. Details: \n",
      "Traceback (most recent call last):\n",
      "  File \"C:\\Users\\anura\\anaconda3\\lib\\site-packages\\sklearn\\model_selection\\_validation.py\", line 593, in _fit_and_score\n",
      "    estimator.fit(X_train, y_train, **fit_params)\n",
      "  File \"C:\\Users\\anura\\anaconda3\\lib\\site-packages\\sklearn\\ensemble\\_forest.py\", line 352, in fit\n",
      "    raise ValueError(\"Out of bag estimation only available\"\n",
      "ValueError: Out of bag estimation only available if bootstrap=True\n",
      "\n",
      "  warnings.warn(\"Estimator fit failed. The score on this train-test\"\n",
      "C:\\Users\\anura\\anaconda3\\lib\\site-packages\\sklearn\\model_selection\\_validation.py:610: FitFailedWarning: Estimator fit failed. The score on this train-test partition for these parameters will be set to nan. Details: \n",
      "Traceback (most recent call last):\n",
      "  File \"C:\\Users\\anura\\anaconda3\\lib\\site-packages\\sklearn\\model_selection\\_validation.py\", line 593, in _fit_and_score\n",
      "    estimator.fit(X_train, y_train, **fit_params)\n",
      "  File \"C:\\Users\\anura\\anaconda3\\lib\\site-packages\\sklearn\\ensemble\\_forest.py\", line 352, in fit\n",
      "    raise ValueError(\"Out of bag estimation only available\"\n",
      "ValueError: Out of bag estimation only available if bootstrap=True\n",
      "\n",
      "  warnings.warn(\"Estimator fit failed. The score on this train-test\"\n",
      "C:\\Users\\anura\\anaconda3\\lib\\site-packages\\sklearn\\model_selection\\_validation.py:610: FitFailedWarning: Estimator fit failed. The score on this train-test partition for these parameters will be set to nan. Details: \n",
      "Traceback (most recent call last):\n",
      "  File \"C:\\Users\\anura\\anaconda3\\lib\\site-packages\\sklearn\\model_selection\\_validation.py\", line 593, in _fit_and_score\n",
      "    estimator.fit(X_train, y_train, **fit_params)\n",
      "  File \"C:\\Users\\anura\\anaconda3\\lib\\site-packages\\sklearn\\ensemble\\_forest.py\", line 352, in fit\n",
      "    raise ValueError(\"Out of bag estimation only available\"\n",
      "ValueError: Out of bag estimation only available if bootstrap=True\n",
      "\n",
      "  warnings.warn(\"Estimator fit failed. The score on this train-test\"\n",
      "C:\\Users\\anura\\anaconda3\\lib\\site-packages\\sklearn\\model_selection\\_validation.py:610: FitFailedWarning: Estimator fit failed. The score on this train-test partition for these parameters will be set to nan. Details: \n",
      "Traceback (most recent call last):\n",
      "  File \"C:\\Users\\anura\\anaconda3\\lib\\site-packages\\sklearn\\model_selection\\_validation.py\", line 593, in _fit_and_score\n",
      "    estimator.fit(X_train, y_train, **fit_params)\n",
      "  File \"C:\\Users\\anura\\anaconda3\\lib\\site-packages\\sklearn\\ensemble\\_forest.py\", line 352, in fit\n",
      "    raise ValueError(\"Out of bag estimation only available\"\n",
      "ValueError: Out of bag estimation only available if bootstrap=True\n",
      "\n",
      "  warnings.warn(\"Estimator fit failed. The score on this train-test\"\n",
      "C:\\Users\\anura\\anaconda3\\lib\\site-packages\\sklearn\\model_selection\\_validation.py:610: FitFailedWarning: Estimator fit failed. The score on this train-test partition for these parameters will be set to nan. Details: \n",
      "Traceback (most recent call last):\n",
      "  File \"C:\\Users\\anura\\anaconda3\\lib\\site-packages\\sklearn\\model_selection\\_validation.py\", line 593, in _fit_and_score\n",
      "    estimator.fit(X_train, y_train, **fit_params)\n",
      "  File \"C:\\Users\\anura\\anaconda3\\lib\\site-packages\\sklearn\\ensemble\\_forest.py\", line 352, in fit\n",
      "    raise ValueError(\"Out of bag estimation only available\"\n",
      "ValueError: Out of bag estimation only available if bootstrap=True\n",
      "\n",
      "  warnings.warn(\"Estimator fit failed. The score on this train-test\"\n",
      "C:\\Users\\anura\\anaconda3\\lib\\site-packages\\sklearn\\model_selection\\_validation.py:610: FitFailedWarning: Estimator fit failed. The score on this train-test partition for these parameters will be set to nan. Details: \n",
      "Traceback (most recent call last):\n",
      "  File \"C:\\Users\\anura\\anaconda3\\lib\\site-packages\\sklearn\\model_selection\\_validation.py\", line 593, in _fit_and_score\n",
      "    estimator.fit(X_train, y_train, **fit_params)\n",
      "  File \"C:\\Users\\anura\\anaconda3\\lib\\site-packages\\sklearn\\ensemble\\_forest.py\", line 352, in fit\n",
      "    raise ValueError(\"Out of bag estimation only available\"\n",
      "ValueError: Out of bag estimation only available if bootstrap=True\n",
      "\n",
      "  warnings.warn(\"Estimator fit failed. The score on this train-test\"\n",
      "C:\\Users\\anura\\anaconda3\\lib\\site-packages\\sklearn\\model_selection\\_validation.py:610: FitFailedWarning: Estimator fit failed. The score on this train-test partition for these parameters will be set to nan. Details: \n",
      "Traceback (most recent call last):\n",
      "  File \"C:\\Users\\anura\\anaconda3\\lib\\site-packages\\sklearn\\model_selection\\_validation.py\", line 593, in _fit_and_score\n",
      "    estimator.fit(X_train, y_train, **fit_params)\n",
      "  File \"C:\\Users\\anura\\anaconda3\\lib\\site-packages\\sklearn\\ensemble\\_forest.py\", line 352, in fit\n",
      "    raise ValueError(\"Out of bag estimation only available\"\n",
      "ValueError: Out of bag estimation only available if bootstrap=True\n",
      "\n",
      "  warnings.warn(\"Estimator fit failed. The score on this train-test\"\n",
      "C:\\Users\\anura\\anaconda3\\lib\\site-packages\\sklearn\\model_selection\\_validation.py:610: FitFailedWarning: Estimator fit failed. The score on this train-test partition for these parameters will be set to nan. Details: \n",
      "Traceback (most recent call last):\n",
      "  File \"C:\\Users\\anura\\anaconda3\\lib\\site-packages\\sklearn\\model_selection\\_validation.py\", line 593, in _fit_and_score\n",
      "    estimator.fit(X_train, y_train, **fit_params)\n",
      "  File \"C:\\Users\\anura\\anaconda3\\lib\\site-packages\\sklearn\\ensemble\\_forest.py\", line 352, in fit\n",
      "    raise ValueError(\"Out of bag estimation only available\"\n",
      "ValueError: Out of bag estimation only available if bootstrap=True\n",
      "\n",
      "  warnings.warn(\"Estimator fit failed. The score on this train-test\"\n",
      "C:\\Users\\anura\\anaconda3\\lib\\site-packages\\sklearn\\model_selection\\_validation.py:610: FitFailedWarning: Estimator fit failed. The score on this train-test partition for these parameters will be set to nan. Details: \n",
      "Traceback (most recent call last):\n",
      "  File \"C:\\Users\\anura\\anaconda3\\lib\\site-packages\\sklearn\\model_selection\\_validation.py\", line 593, in _fit_and_score\n",
      "    estimator.fit(X_train, y_train, **fit_params)\n",
      "  File \"C:\\Users\\anura\\anaconda3\\lib\\site-packages\\sklearn\\ensemble\\_forest.py\", line 352, in fit\n",
      "    raise ValueError(\"Out of bag estimation only available\"\n",
      "ValueError: Out of bag estimation only available if bootstrap=True\n",
      "\n",
      "  warnings.warn(\"Estimator fit failed. The score on this train-test\"\n",
      "C:\\Users\\anura\\anaconda3\\lib\\site-packages\\sklearn\\model_selection\\_validation.py:610: FitFailedWarning: Estimator fit failed. The score on this train-test partition for these parameters will be set to nan. Details: \n",
      "Traceback (most recent call last):\n",
      "  File \"C:\\Users\\anura\\anaconda3\\lib\\site-packages\\sklearn\\model_selection\\_validation.py\", line 593, in _fit_and_score\n",
      "    estimator.fit(X_train, y_train, **fit_params)\n",
      "  File \"C:\\Users\\anura\\anaconda3\\lib\\site-packages\\sklearn\\ensemble\\_forest.py\", line 352, in fit\n",
      "    raise ValueError(\"Out of bag estimation only available\"\n",
      "ValueError: Out of bag estimation only available if bootstrap=True\n",
      "\n",
      "  warnings.warn(\"Estimator fit failed. The score on this train-test\"\n",
      "C:\\Users\\anura\\anaconda3\\lib\\site-packages\\sklearn\\model_selection\\_validation.py:610: FitFailedWarning: Estimator fit failed. The score on this train-test partition for these parameters will be set to nan. Details: \n",
      "Traceback (most recent call last):\n",
      "  File \"C:\\Users\\anura\\anaconda3\\lib\\site-packages\\sklearn\\model_selection\\_validation.py\", line 593, in _fit_and_score\n",
      "    estimator.fit(X_train, y_train, **fit_params)\n",
      "  File \"C:\\Users\\anura\\anaconda3\\lib\\site-packages\\sklearn\\ensemble\\_forest.py\", line 352, in fit\n",
      "    raise ValueError(\"Out of bag estimation only available\"\n",
      "ValueError: Out of bag estimation only available if bootstrap=True\n",
      "\n",
      "  warnings.warn(\"Estimator fit failed. The score on this train-test\"\n",
      "C:\\Users\\anura\\anaconda3\\lib\\site-packages\\sklearn\\model_selection\\_validation.py:610: FitFailedWarning: Estimator fit failed. The score on this train-test partition for these parameters will be set to nan. Details: \n",
      "Traceback (most recent call last):\n",
      "  File \"C:\\Users\\anura\\anaconda3\\lib\\site-packages\\sklearn\\model_selection\\_validation.py\", line 593, in _fit_and_score\n",
      "    estimator.fit(X_train, y_train, **fit_params)\n",
      "  File \"C:\\Users\\anura\\anaconda3\\lib\\site-packages\\sklearn\\ensemble\\_forest.py\", line 352, in fit\n",
      "    raise ValueError(\"Out of bag estimation only available\"\n",
      "ValueError: Out of bag estimation only available if bootstrap=True\n",
      "\n",
      "  warnings.warn(\"Estimator fit failed. The score on this train-test\"\n"
     ]
    },
    {
     "name": "stderr",
     "output_type": "stream",
     "text": [
      "C:\\Users\\anura\\anaconda3\\lib\\site-packages\\sklearn\\model_selection\\_validation.py:610: FitFailedWarning: Estimator fit failed. The score on this train-test partition for these parameters will be set to nan. Details: \n",
      "Traceback (most recent call last):\n",
      "  File \"C:\\Users\\anura\\anaconda3\\lib\\site-packages\\sklearn\\model_selection\\_validation.py\", line 593, in _fit_and_score\n",
      "    estimator.fit(X_train, y_train, **fit_params)\n",
      "  File \"C:\\Users\\anura\\anaconda3\\lib\\site-packages\\sklearn\\ensemble\\_forest.py\", line 352, in fit\n",
      "    raise ValueError(\"Out of bag estimation only available\"\n",
      "ValueError: Out of bag estimation only available if bootstrap=True\n",
      "\n",
      "  warnings.warn(\"Estimator fit failed. The score on this train-test\"\n",
      "C:\\Users\\anura\\anaconda3\\lib\\site-packages\\sklearn\\model_selection\\_validation.py:610: FitFailedWarning: Estimator fit failed. The score on this train-test partition for these parameters will be set to nan. Details: \n",
      "Traceback (most recent call last):\n",
      "  File \"C:\\Users\\anura\\anaconda3\\lib\\site-packages\\sklearn\\model_selection\\_validation.py\", line 593, in _fit_and_score\n",
      "    estimator.fit(X_train, y_train, **fit_params)\n",
      "  File \"C:\\Users\\anura\\anaconda3\\lib\\site-packages\\sklearn\\ensemble\\_forest.py\", line 352, in fit\n",
      "    raise ValueError(\"Out of bag estimation only available\"\n",
      "ValueError: Out of bag estimation only available if bootstrap=True\n",
      "\n",
      "  warnings.warn(\"Estimator fit failed. The score on this train-test\"\n",
      "C:\\Users\\anura\\anaconda3\\lib\\site-packages\\sklearn\\model_selection\\_validation.py:610: FitFailedWarning: Estimator fit failed. The score on this train-test partition for these parameters will be set to nan. Details: \n",
      "Traceback (most recent call last):\n",
      "  File \"C:\\Users\\anura\\anaconda3\\lib\\site-packages\\sklearn\\model_selection\\_validation.py\", line 593, in _fit_and_score\n",
      "    estimator.fit(X_train, y_train, **fit_params)\n",
      "  File \"C:\\Users\\anura\\anaconda3\\lib\\site-packages\\sklearn\\ensemble\\_forest.py\", line 352, in fit\n",
      "    raise ValueError(\"Out of bag estimation only available\"\n",
      "ValueError: Out of bag estimation only available if bootstrap=True\n",
      "\n",
      "  warnings.warn(\"Estimator fit failed. The score on this train-test\"\n",
      "C:\\Users\\anura\\anaconda3\\lib\\site-packages\\sklearn\\model_selection\\_validation.py:610: FitFailedWarning: Estimator fit failed. The score on this train-test partition for these parameters will be set to nan. Details: \n",
      "Traceback (most recent call last):\n",
      "  File \"C:\\Users\\anura\\anaconda3\\lib\\site-packages\\sklearn\\model_selection\\_validation.py\", line 593, in _fit_and_score\n",
      "    estimator.fit(X_train, y_train, **fit_params)\n",
      "  File \"C:\\Users\\anura\\anaconda3\\lib\\site-packages\\sklearn\\ensemble\\_forest.py\", line 352, in fit\n",
      "    raise ValueError(\"Out of bag estimation only available\"\n",
      "ValueError: Out of bag estimation only available if bootstrap=True\n",
      "\n",
      "  warnings.warn(\"Estimator fit failed. The score on this train-test\"\n",
      "C:\\Users\\anura\\anaconda3\\lib\\site-packages\\sklearn\\model_selection\\_validation.py:610: FitFailedWarning: Estimator fit failed. The score on this train-test partition for these parameters will be set to nan. Details: \n",
      "Traceback (most recent call last):\n",
      "  File \"C:\\Users\\anura\\anaconda3\\lib\\site-packages\\sklearn\\model_selection\\_validation.py\", line 593, in _fit_and_score\n",
      "    estimator.fit(X_train, y_train, **fit_params)\n",
      "  File \"C:\\Users\\anura\\anaconda3\\lib\\site-packages\\sklearn\\ensemble\\_forest.py\", line 352, in fit\n",
      "    raise ValueError(\"Out of bag estimation only available\"\n",
      "ValueError: Out of bag estimation only available if bootstrap=True\n",
      "\n",
      "  warnings.warn(\"Estimator fit failed. The score on this train-test\"\n",
      "C:\\Users\\anura\\anaconda3\\lib\\site-packages\\sklearn\\model_selection\\_validation.py:610: FitFailedWarning: Estimator fit failed. The score on this train-test partition for these parameters will be set to nan. Details: \n",
      "Traceback (most recent call last):\n",
      "  File \"C:\\Users\\anura\\anaconda3\\lib\\site-packages\\sklearn\\model_selection\\_validation.py\", line 593, in _fit_and_score\n",
      "    estimator.fit(X_train, y_train, **fit_params)\n",
      "  File \"C:\\Users\\anura\\anaconda3\\lib\\site-packages\\sklearn\\ensemble\\_forest.py\", line 352, in fit\n",
      "    raise ValueError(\"Out of bag estimation only available\"\n",
      "ValueError: Out of bag estimation only available if bootstrap=True\n",
      "\n",
      "  warnings.warn(\"Estimator fit failed. The score on this train-test\"\n",
      "C:\\Users\\anura\\anaconda3\\lib\\site-packages\\sklearn\\model_selection\\_validation.py:610: FitFailedWarning: Estimator fit failed. The score on this train-test partition for these parameters will be set to nan. Details: \n",
      "Traceback (most recent call last):\n",
      "  File \"C:\\Users\\anura\\anaconda3\\lib\\site-packages\\sklearn\\model_selection\\_validation.py\", line 593, in _fit_and_score\n",
      "    estimator.fit(X_train, y_train, **fit_params)\n",
      "  File \"C:\\Users\\anura\\anaconda3\\lib\\site-packages\\sklearn\\ensemble\\_forest.py\", line 352, in fit\n",
      "    raise ValueError(\"Out of bag estimation only available\"\n",
      "ValueError: Out of bag estimation only available if bootstrap=True\n",
      "\n",
      "  warnings.warn(\"Estimator fit failed. The score on this train-test\"\n",
      "C:\\Users\\anura\\anaconda3\\lib\\site-packages\\sklearn\\model_selection\\_validation.py:610: FitFailedWarning: Estimator fit failed. The score on this train-test partition for these parameters will be set to nan. Details: \n",
      "Traceback (most recent call last):\n",
      "  File \"C:\\Users\\anura\\anaconda3\\lib\\site-packages\\sklearn\\model_selection\\_validation.py\", line 593, in _fit_and_score\n",
      "    estimator.fit(X_train, y_train, **fit_params)\n",
      "  File \"C:\\Users\\anura\\anaconda3\\lib\\site-packages\\sklearn\\ensemble\\_forest.py\", line 352, in fit\n",
      "    raise ValueError(\"Out of bag estimation only available\"\n",
      "ValueError: Out of bag estimation only available if bootstrap=True\n",
      "\n",
      "  warnings.warn(\"Estimator fit failed. The score on this train-test\"\n",
      "C:\\Users\\anura\\anaconda3\\lib\\site-packages\\sklearn\\model_selection\\_validation.py:610: FitFailedWarning: Estimator fit failed. The score on this train-test partition for these parameters will be set to nan. Details: \n",
      "Traceback (most recent call last):\n",
      "  File \"C:\\Users\\anura\\anaconda3\\lib\\site-packages\\sklearn\\model_selection\\_validation.py\", line 593, in _fit_and_score\n",
      "    estimator.fit(X_train, y_train, **fit_params)\n",
      "  File \"C:\\Users\\anura\\anaconda3\\lib\\site-packages\\sklearn\\ensemble\\_forest.py\", line 352, in fit\n",
      "    raise ValueError(\"Out of bag estimation only available\"\n",
      "ValueError: Out of bag estimation only available if bootstrap=True\n",
      "\n",
      "  warnings.warn(\"Estimator fit failed. The score on this train-test\"\n",
      "C:\\Users\\anura\\anaconda3\\lib\\site-packages\\sklearn\\model_selection\\_validation.py:610: FitFailedWarning: Estimator fit failed. The score on this train-test partition for these parameters will be set to nan. Details: \n",
      "Traceback (most recent call last):\n",
      "  File \"C:\\Users\\anura\\anaconda3\\lib\\site-packages\\sklearn\\model_selection\\_validation.py\", line 593, in _fit_and_score\n",
      "    estimator.fit(X_train, y_train, **fit_params)\n",
      "  File \"C:\\Users\\anura\\anaconda3\\lib\\site-packages\\sklearn\\ensemble\\_forest.py\", line 352, in fit\n",
      "    raise ValueError(\"Out of bag estimation only available\"\n",
      "ValueError: Out of bag estimation only available if bootstrap=True\n",
      "\n",
      "  warnings.warn(\"Estimator fit failed. The score on this train-test\"\n",
      "C:\\Users\\anura\\anaconda3\\lib\\site-packages\\sklearn\\model_selection\\_validation.py:610: FitFailedWarning: Estimator fit failed. The score on this train-test partition for these parameters will be set to nan. Details: \n",
      "Traceback (most recent call last):\n",
      "  File \"C:\\Users\\anura\\anaconda3\\lib\\site-packages\\sklearn\\model_selection\\_validation.py\", line 593, in _fit_and_score\n",
      "    estimator.fit(X_train, y_train, **fit_params)\n",
      "  File \"C:\\Users\\anura\\anaconda3\\lib\\site-packages\\sklearn\\ensemble\\_forest.py\", line 352, in fit\n",
      "    raise ValueError(\"Out of bag estimation only available\"\n",
      "ValueError: Out of bag estimation only available if bootstrap=True\n",
      "\n",
      "  warnings.warn(\"Estimator fit failed. The score on this train-test\"\n",
      "C:\\Users\\anura\\anaconda3\\lib\\site-packages\\sklearn\\model_selection\\_validation.py:610: FitFailedWarning: Estimator fit failed. The score on this train-test partition for these parameters will be set to nan. Details: \n",
      "Traceback (most recent call last):\n",
      "  File \"C:\\Users\\anura\\anaconda3\\lib\\site-packages\\sklearn\\model_selection\\_validation.py\", line 593, in _fit_and_score\n",
      "    estimator.fit(X_train, y_train, **fit_params)\n",
      "  File \"C:\\Users\\anura\\anaconda3\\lib\\site-packages\\sklearn\\ensemble\\_forest.py\", line 352, in fit\n",
      "    raise ValueError(\"Out of bag estimation only available\"\n",
      "ValueError: Out of bag estimation only available if bootstrap=True\n",
      "\n",
      "  warnings.warn(\"Estimator fit failed. The score on this train-test\"\n",
      "C:\\Users\\anura\\anaconda3\\lib\\site-packages\\sklearn\\model_selection\\_validation.py:610: FitFailedWarning: Estimator fit failed. The score on this train-test partition for these parameters will be set to nan. Details: \n",
      "Traceback (most recent call last):\n",
      "  File \"C:\\Users\\anura\\anaconda3\\lib\\site-packages\\sklearn\\model_selection\\_validation.py\", line 593, in _fit_and_score\n",
      "    estimator.fit(X_train, y_train, **fit_params)\n",
      "  File \"C:\\Users\\anura\\anaconda3\\lib\\site-packages\\sklearn\\ensemble\\_forest.py\", line 352, in fit\n",
      "    raise ValueError(\"Out of bag estimation only available\"\n",
      "ValueError: Out of bag estimation only available if bootstrap=True\n",
      "\n",
      "  warnings.warn(\"Estimator fit failed. The score on this train-test\"\n",
      "C:\\Users\\anura\\anaconda3\\lib\\site-packages\\sklearn\\model_selection\\_validation.py:610: FitFailedWarning: Estimator fit failed. The score on this train-test partition for these parameters will be set to nan. Details: \n",
      "Traceback (most recent call last):\n",
      "  File \"C:\\Users\\anura\\anaconda3\\lib\\site-packages\\sklearn\\model_selection\\_validation.py\", line 593, in _fit_and_score\n",
      "    estimator.fit(X_train, y_train, **fit_params)\n",
      "  File \"C:\\Users\\anura\\anaconda3\\lib\\site-packages\\sklearn\\ensemble\\_forest.py\", line 352, in fit\n",
      "    raise ValueError(\"Out of bag estimation only available\"\n",
      "ValueError: Out of bag estimation only available if bootstrap=True\n",
      "\n",
      "  warnings.warn(\"Estimator fit failed. The score on this train-test\"\n",
      "C:\\Users\\anura\\anaconda3\\lib\\site-packages\\sklearn\\model_selection\\_validation.py:610: FitFailedWarning: Estimator fit failed. The score on this train-test partition for these parameters will be set to nan. Details: \n",
      "Traceback (most recent call last):\n",
      "  File \"C:\\Users\\anura\\anaconda3\\lib\\site-packages\\sklearn\\model_selection\\_validation.py\", line 593, in _fit_and_score\n",
      "    estimator.fit(X_train, y_train, **fit_params)\n",
      "  File \"C:\\Users\\anura\\anaconda3\\lib\\site-packages\\sklearn\\ensemble\\_forest.py\", line 352, in fit\n",
      "    raise ValueError(\"Out of bag estimation only available\"\n",
      "ValueError: Out of bag estimation only available if bootstrap=True\n",
      "\n",
      "  warnings.warn(\"Estimator fit failed. The score on this train-test\"\n",
      "C:\\Users\\anura\\anaconda3\\lib\\site-packages\\sklearn\\model_selection\\_validation.py:610: FitFailedWarning: Estimator fit failed. The score on this train-test partition for these parameters will be set to nan. Details: \n",
      "Traceback (most recent call last):\n",
      "  File \"C:\\Users\\anura\\anaconda3\\lib\\site-packages\\sklearn\\model_selection\\_validation.py\", line 593, in _fit_and_score\n",
      "    estimator.fit(X_train, y_train, **fit_params)\n",
      "  File \"C:\\Users\\anura\\anaconda3\\lib\\site-packages\\sklearn\\ensemble\\_forest.py\", line 352, in fit\n",
      "    raise ValueError(\"Out of bag estimation only available\"\n",
      "ValueError: Out of bag estimation only available if bootstrap=True\n",
      "\n",
      "  warnings.warn(\"Estimator fit failed. The score on this train-test\"\n"
     ]
    },
    {
     "name": "stderr",
     "output_type": "stream",
     "text": [
      "C:\\Users\\anura\\anaconda3\\lib\\site-packages\\sklearn\\model_selection\\_validation.py:610: FitFailedWarning: Estimator fit failed. The score on this train-test partition for these parameters will be set to nan. Details: \n",
      "Traceback (most recent call last):\n",
      "  File \"C:\\Users\\anura\\anaconda3\\lib\\site-packages\\sklearn\\model_selection\\_validation.py\", line 593, in _fit_and_score\n",
      "    estimator.fit(X_train, y_train, **fit_params)\n",
      "  File \"C:\\Users\\anura\\anaconda3\\lib\\site-packages\\sklearn\\ensemble\\_forest.py\", line 352, in fit\n",
      "    raise ValueError(\"Out of bag estimation only available\"\n",
      "ValueError: Out of bag estimation only available if bootstrap=True\n",
      "\n",
      "  warnings.warn(\"Estimator fit failed. The score on this train-test\"\n",
      "C:\\Users\\anura\\anaconda3\\lib\\site-packages\\sklearn\\model_selection\\_validation.py:610: FitFailedWarning: Estimator fit failed. The score on this train-test partition for these parameters will be set to nan. Details: \n",
      "Traceback (most recent call last):\n",
      "  File \"C:\\Users\\anura\\anaconda3\\lib\\site-packages\\sklearn\\model_selection\\_validation.py\", line 593, in _fit_and_score\n",
      "    estimator.fit(X_train, y_train, **fit_params)\n",
      "  File \"C:\\Users\\anura\\anaconda3\\lib\\site-packages\\sklearn\\ensemble\\_forest.py\", line 352, in fit\n",
      "    raise ValueError(\"Out of bag estimation only available\"\n",
      "ValueError: Out of bag estimation only available if bootstrap=True\n",
      "\n",
      "  warnings.warn(\"Estimator fit failed. The score on this train-test\"\n",
      "C:\\Users\\anura\\anaconda3\\lib\\site-packages\\sklearn\\model_selection\\_validation.py:610: FitFailedWarning: Estimator fit failed. The score on this train-test partition for these parameters will be set to nan. Details: \n",
      "Traceback (most recent call last):\n",
      "  File \"C:\\Users\\anura\\anaconda3\\lib\\site-packages\\sklearn\\model_selection\\_validation.py\", line 593, in _fit_and_score\n",
      "    estimator.fit(X_train, y_train, **fit_params)\n",
      "  File \"C:\\Users\\anura\\anaconda3\\lib\\site-packages\\sklearn\\ensemble\\_forest.py\", line 352, in fit\n",
      "    raise ValueError(\"Out of bag estimation only available\"\n",
      "ValueError: Out of bag estimation only available if bootstrap=True\n",
      "\n",
      "  warnings.warn(\"Estimator fit failed. The score on this train-test\"\n",
      "C:\\Users\\anura\\anaconda3\\lib\\site-packages\\sklearn\\model_selection\\_validation.py:610: FitFailedWarning: Estimator fit failed. The score on this train-test partition for these parameters will be set to nan. Details: \n",
      "Traceback (most recent call last):\n",
      "  File \"C:\\Users\\anura\\anaconda3\\lib\\site-packages\\sklearn\\model_selection\\_validation.py\", line 593, in _fit_and_score\n",
      "    estimator.fit(X_train, y_train, **fit_params)\n",
      "  File \"C:\\Users\\anura\\anaconda3\\lib\\site-packages\\sklearn\\ensemble\\_forest.py\", line 352, in fit\n",
      "    raise ValueError(\"Out of bag estimation only available\"\n",
      "ValueError: Out of bag estimation only available if bootstrap=True\n",
      "\n",
      "  warnings.warn(\"Estimator fit failed. The score on this train-test\"\n",
      "C:\\Users\\anura\\anaconda3\\lib\\site-packages\\sklearn\\model_selection\\_validation.py:610: FitFailedWarning: Estimator fit failed. The score on this train-test partition for these parameters will be set to nan. Details: \n",
      "Traceback (most recent call last):\n",
      "  File \"C:\\Users\\anura\\anaconda3\\lib\\site-packages\\sklearn\\model_selection\\_validation.py\", line 593, in _fit_and_score\n",
      "    estimator.fit(X_train, y_train, **fit_params)\n",
      "  File \"C:\\Users\\anura\\anaconda3\\lib\\site-packages\\sklearn\\ensemble\\_forest.py\", line 352, in fit\n",
      "    raise ValueError(\"Out of bag estimation only available\"\n",
      "ValueError: Out of bag estimation only available if bootstrap=True\n",
      "\n",
      "  warnings.warn(\"Estimator fit failed. The score on this train-test\"\n",
      "C:\\Users\\anura\\anaconda3\\lib\\site-packages\\sklearn\\model_selection\\_validation.py:610: FitFailedWarning: Estimator fit failed. The score on this train-test partition for these parameters will be set to nan. Details: \n",
      "Traceback (most recent call last):\n",
      "  File \"C:\\Users\\anura\\anaconda3\\lib\\site-packages\\sklearn\\model_selection\\_validation.py\", line 593, in _fit_and_score\n",
      "    estimator.fit(X_train, y_train, **fit_params)\n",
      "  File \"C:\\Users\\anura\\anaconda3\\lib\\site-packages\\sklearn\\ensemble\\_forest.py\", line 352, in fit\n",
      "    raise ValueError(\"Out of bag estimation only available\"\n",
      "ValueError: Out of bag estimation only available if bootstrap=True\n",
      "\n",
      "  warnings.warn(\"Estimator fit failed. The score on this train-test\"\n",
      "C:\\Users\\anura\\anaconda3\\lib\\site-packages\\sklearn\\model_selection\\_validation.py:610: FitFailedWarning: Estimator fit failed. The score on this train-test partition for these parameters will be set to nan. Details: \n",
      "Traceback (most recent call last):\n",
      "  File \"C:\\Users\\anura\\anaconda3\\lib\\site-packages\\sklearn\\model_selection\\_validation.py\", line 593, in _fit_and_score\n",
      "    estimator.fit(X_train, y_train, **fit_params)\n",
      "  File \"C:\\Users\\anura\\anaconda3\\lib\\site-packages\\sklearn\\ensemble\\_forest.py\", line 352, in fit\n",
      "    raise ValueError(\"Out of bag estimation only available\"\n",
      "ValueError: Out of bag estimation only available if bootstrap=True\n",
      "\n",
      "  warnings.warn(\"Estimator fit failed. The score on this train-test\"\n",
      "C:\\Users\\anura\\anaconda3\\lib\\site-packages\\sklearn\\model_selection\\_validation.py:610: FitFailedWarning: Estimator fit failed. The score on this train-test partition for these parameters will be set to nan. Details: \n",
      "Traceback (most recent call last):\n",
      "  File \"C:\\Users\\anura\\anaconda3\\lib\\site-packages\\sklearn\\model_selection\\_validation.py\", line 593, in _fit_and_score\n",
      "    estimator.fit(X_train, y_train, **fit_params)\n",
      "  File \"C:\\Users\\anura\\anaconda3\\lib\\site-packages\\sklearn\\ensemble\\_forest.py\", line 352, in fit\n",
      "    raise ValueError(\"Out of bag estimation only available\"\n",
      "ValueError: Out of bag estimation only available if bootstrap=True\n",
      "\n",
      "  warnings.warn(\"Estimator fit failed. The score on this train-test\"\n",
      "C:\\Users\\anura\\anaconda3\\lib\\site-packages\\sklearn\\model_selection\\_validation.py:610: FitFailedWarning: Estimator fit failed. The score on this train-test partition for these parameters will be set to nan. Details: \n",
      "Traceback (most recent call last):\n",
      "  File \"C:\\Users\\anura\\anaconda3\\lib\\site-packages\\sklearn\\model_selection\\_validation.py\", line 593, in _fit_and_score\n",
      "    estimator.fit(X_train, y_train, **fit_params)\n",
      "  File \"C:\\Users\\anura\\anaconda3\\lib\\site-packages\\sklearn\\ensemble\\_forest.py\", line 352, in fit\n",
      "    raise ValueError(\"Out of bag estimation only available\"\n",
      "ValueError: Out of bag estimation only available if bootstrap=True\n",
      "\n",
      "  warnings.warn(\"Estimator fit failed. The score on this train-test\"\n",
      "C:\\Users\\anura\\anaconda3\\lib\\site-packages\\sklearn\\model_selection\\_validation.py:610: FitFailedWarning: Estimator fit failed. The score on this train-test partition for these parameters will be set to nan. Details: \n",
      "Traceback (most recent call last):\n",
      "  File \"C:\\Users\\anura\\anaconda3\\lib\\site-packages\\sklearn\\model_selection\\_validation.py\", line 593, in _fit_and_score\n",
      "    estimator.fit(X_train, y_train, **fit_params)\n",
      "  File \"C:\\Users\\anura\\anaconda3\\lib\\site-packages\\sklearn\\ensemble\\_forest.py\", line 352, in fit\n",
      "    raise ValueError(\"Out of bag estimation only available\"\n",
      "ValueError: Out of bag estimation only available if bootstrap=True\n",
      "\n",
      "  warnings.warn(\"Estimator fit failed. The score on this train-test\"\n",
      "C:\\Users\\anura\\anaconda3\\lib\\site-packages\\sklearn\\model_selection\\_validation.py:610: FitFailedWarning: Estimator fit failed. The score on this train-test partition for these parameters will be set to nan. Details: \n",
      "Traceback (most recent call last):\n",
      "  File \"C:\\Users\\anura\\anaconda3\\lib\\site-packages\\sklearn\\model_selection\\_validation.py\", line 593, in _fit_and_score\n",
      "    estimator.fit(X_train, y_train, **fit_params)\n",
      "  File \"C:\\Users\\anura\\anaconda3\\lib\\site-packages\\sklearn\\ensemble\\_forest.py\", line 352, in fit\n",
      "    raise ValueError(\"Out of bag estimation only available\"\n",
      "ValueError: Out of bag estimation only available if bootstrap=True\n",
      "\n",
      "  warnings.warn(\"Estimator fit failed. The score on this train-test\"\n",
      "C:\\Users\\anura\\anaconda3\\lib\\site-packages\\sklearn\\model_selection\\_validation.py:610: FitFailedWarning: Estimator fit failed. The score on this train-test partition for these parameters will be set to nan. Details: \n",
      "Traceback (most recent call last):\n",
      "  File \"C:\\Users\\anura\\anaconda3\\lib\\site-packages\\sklearn\\model_selection\\_validation.py\", line 593, in _fit_and_score\n",
      "    estimator.fit(X_train, y_train, **fit_params)\n",
      "  File \"C:\\Users\\anura\\anaconda3\\lib\\site-packages\\sklearn\\ensemble\\_forest.py\", line 352, in fit\n",
      "    raise ValueError(\"Out of bag estimation only available\"\n",
      "ValueError: Out of bag estimation only available if bootstrap=True\n",
      "\n",
      "  warnings.warn(\"Estimator fit failed. The score on this train-test\"\n",
      "C:\\Users\\anura\\anaconda3\\lib\\site-packages\\sklearn\\model_selection\\_validation.py:610: FitFailedWarning: Estimator fit failed. The score on this train-test partition for these parameters will be set to nan. Details: \n",
      "Traceback (most recent call last):\n",
      "  File \"C:\\Users\\anura\\anaconda3\\lib\\site-packages\\sklearn\\model_selection\\_validation.py\", line 593, in _fit_and_score\n",
      "    estimator.fit(X_train, y_train, **fit_params)\n",
      "  File \"C:\\Users\\anura\\anaconda3\\lib\\site-packages\\sklearn\\ensemble\\_forest.py\", line 352, in fit\n",
      "    raise ValueError(\"Out of bag estimation only available\"\n",
      "ValueError: Out of bag estimation only available if bootstrap=True\n",
      "\n",
      "  warnings.warn(\"Estimator fit failed. The score on this train-test\"\n",
      "C:\\Users\\anura\\anaconda3\\lib\\site-packages\\sklearn\\model_selection\\_validation.py:610: FitFailedWarning: Estimator fit failed. The score on this train-test partition for these parameters will be set to nan. Details: \n",
      "Traceback (most recent call last):\n",
      "  File \"C:\\Users\\anura\\anaconda3\\lib\\site-packages\\sklearn\\model_selection\\_validation.py\", line 593, in _fit_and_score\n",
      "    estimator.fit(X_train, y_train, **fit_params)\n",
      "  File \"C:\\Users\\anura\\anaconda3\\lib\\site-packages\\sklearn\\ensemble\\_forest.py\", line 352, in fit\n",
      "    raise ValueError(\"Out of bag estimation only available\"\n",
      "ValueError: Out of bag estimation only available if bootstrap=True\n",
      "\n",
      "  warnings.warn(\"Estimator fit failed. The score on this train-test\"\n"
     ]
    },
    {
     "name": "stderr",
     "output_type": "stream",
     "text": [
      "C:\\Users\\anura\\anaconda3\\lib\\site-packages\\sklearn\\model_selection\\_search.py:918: UserWarning: One or more of the test scores are non-finite: [0.84992636 0.83974332 0.86023564 0.85611193 0.8520303  0.84996844\n",
      " 0.85411319 0.85196718 0.84586577 0.85198822 0.83755523 0.8437408\n",
      " 0.85198822 0.85611193 0.84788555 0.84169998 0.829413   0.84174206\n",
      " 0.84378287 0.83759731 0.84378287 0.84992636 0.85196718 0.86019356\n",
      "        nan 0.83151694        nan 0.83763939        nan 0.82329055\n",
      "        nan 0.84174206        nan 0.82118662        nan 0.83768146\n",
      "        nan 0.84588681        nan 0.84380391        nan 0.83357879\n",
      "        nan 0.81918788        nan 0.82737219        nan 0.83559857]\n",
      "  warnings.warn(\n"
     ]
    },
    {
     "data": {
      "text/plain": [
       "GridSearchCV(estimator=RandomForestClassifier(),\n",
       "             param_grid={'bootstrap': [True, False], 'max_features': [2, 3, 4],\n",
       "                         'n_estimators': [18, 64, 85, 128],\n",
       "                         'oob_score': [True, False]})"
      ]
     },
     "execution_count": 20,
     "metadata": {},
     "output_type": "execute_result"
    }
   ],
   "source": [
    "grid.fit(X_train,y_train)"
   ]
  },
  {
   "cell_type": "code",
   "execution_count": 21,
   "id": "de29119e",
   "metadata": {},
   "outputs": [
    {
     "data": {
      "text/plain": [
       "{'bootstrap': True, 'max_features': 2, 'n_estimators': 64, 'oob_score': True}"
      ]
     },
     "execution_count": 21,
     "metadata": {},
     "output_type": "execute_result"
    }
   ],
   "source": [
    "grid.best_params_"
   ]
  },
  {
   "cell_type": "code",
   "execution_count": 22,
   "id": "b4185175",
   "metadata": {},
   "outputs": [],
   "source": [
    "preds = grid.predict(X_test)"
   ]
  },
  {
   "cell_type": "code",
   "execution_count": 23,
   "id": "19b4f699",
   "metadata": {},
   "outputs": [
    {
     "name": "stdout",
     "output_type": "stream",
     "text": [
      "              precision    recall  f1-score   support\n",
      "\n",
      "           0       0.82      0.92      0.87        75\n",
      "           1       0.84      0.68      0.75        47\n",
      "\n",
      "    accuracy                           0.83       122\n",
      "   macro avg       0.83      0.80      0.81       122\n",
      "weighted avg       0.83      0.83      0.82       122\n",
      "\n"
     ]
    }
   ],
   "source": [
    "print(classification_report(y_test,preds))"
   ]
  },
  {
   "cell_type": "code",
   "execution_count": 24,
   "id": "32ad1d62",
   "metadata": {},
   "outputs": [],
   "source": [
    "feature_importances = grid.best_estimator_.feature_importances_"
   ]
  },
  {
   "cell_type": "code",
   "execution_count": 25,
   "id": "f99b8c1f",
   "metadata": {},
   "outputs": [
    {
     "data": {
      "text/plain": [
       "array([0.08208513, 0.10064323, 0.07722408, 0.09046895, 0.22977219,\n",
       "       0.09256572, 0.22671132, 0.10052938])"
      ]
     },
     "execution_count": 25,
     "metadata": {},
     "output_type": "execute_result"
    }
   ],
   "source": [
    "feature_importances"
   ]
  },
  {
   "cell_type": "markdown",
   "id": "cc5fcb5c",
   "metadata": {},
   "source": [
    "## XGBoost (only Meso_4_DF)"
   ]
  },
  {
   "cell_type": "code",
   "execution_count": 26,
   "id": "5bc17bd1",
   "metadata": {},
   "outputs": [
    {
     "data": {
      "text/html": [
       "<div>\n",
       "<style scoped>\n",
       "    .dataframe tbody tr th:only-of-type {\n",
       "        vertical-align: middle;\n",
       "    }\n",
       "\n",
       "    .dataframe tbody tr th {\n",
       "        vertical-align: top;\n",
       "    }\n",
       "\n",
       "    .dataframe thead th {\n",
       "        text-align: right;\n",
       "    }\n",
       "</style>\n",
       "<table border=\"1\" class=\"dataframe\">\n",
       "  <thead>\n",
       "    <tr style=\"text-align: right;\">\n",
       "      <th></th>\n",
       "      <th>result_deepfake__Meso_4_DF</th>\n",
       "      <th>result_deepfake__Meso_4_F2F</th>\n",
       "      <th>result_deepfake__Meso_Inc_DF</th>\n",
       "      <th>result_deepfake__Meso_Inc_F2F</th>\n",
       "      <th>Depth</th>\n",
       "      <th>Patch_Surf</th>\n",
       "      <th>Patch_Fasd</th>\n",
       "      <th>Binary_Supervision</th>\n",
       "      <th>Label</th>\n",
       "    </tr>\n",
       "  </thead>\n",
       "  <tbody>\n",
       "    <tr>\n",
       "      <th>0</th>\n",
       "      <td>0.999629</td>\n",
       "      <td>0.947555</td>\n",
       "      <td>0.947555</td>\n",
       "      <td>0.947555</td>\n",
       "      <td>0.734380</td>\n",
       "      <td>0.500000</td>\n",
       "      <td>0.166667</td>\n",
       "      <td>0.809298</td>\n",
       "      <td>1</td>\n",
       "    </tr>\n",
       "    <tr>\n",
       "      <th>1</th>\n",
       "      <td>0.999929</td>\n",
       "      <td>0.985180</td>\n",
       "      <td>0.985180</td>\n",
       "      <td>0.985180</td>\n",
       "      <td>0.415671</td>\n",
       "      <td>0.500000</td>\n",
       "      <td>0.083333</td>\n",
       "      <td>0.891896</td>\n",
       "      <td>1</td>\n",
       "    </tr>\n",
       "    <tr>\n",
       "      <th>2</th>\n",
       "      <td>0.999988</td>\n",
       "      <td>0.992169</td>\n",
       "      <td>0.992169</td>\n",
       "      <td>0.992169</td>\n",
       "      <td>0.551340</td>\n",
       "      <td>0.416667</td>\n",
       "      <td>0.166667</td>\n",
       "      <td>0.747742</td>\n",
       "      <td>1</td>\n",
       "    </tr>\n",
       "    <tr>\n",
       "      <th>3</th>\n",
       "      <td>0.999851</td>\n",
       "      <td>0.192587</td>\n",
       "      <td>0.192587</td>\n",
       "      <td>0.192587</td>\n",
       "      <td>0.265878</td>\n",
       "      <td>0.583333</td>\n",
       "      <td>0.333333</td>\n",
       "      <td>0.762917</td>\n",
       "      <td>1</td>\n",
       "    </tr>\n",
       "    <tr>\n",
       "      <th>4</th>\n",
       "      <td>0.996627</td>\n",
       "      <td>0.255806</td>\n",
       "      <td>0.255806</td>\n",
       "      <td>0.255806</td>\n",
       "      <td>0.700852</td>\n",
       "      <td>0.750000</td>\n",
       "      <td>0.250000</td>\n",
       "      <td>0.884715</td>\n",
       "      <td>1</td>\n",
       "    </tr>\n",
       "  </tbody>\n",
       "</table>\n",
       "</div>"
      ],
      "text/plain": [
       "   result_deepfake__Meso_4_DF  result_deepfake__Meso_4_F2F  \\\n",
       "0                    0.999629                     0.947555   \n",
       "1                    0.999929                     0.985180   \n",
       "2                    0.999988                     0.992169   \n",
       "3                    0.999851                     0.192587   \n",
       "4                    0.996627                     0.255806   \n",
       "\n",
       "   result_deepfake__Meso_Inc_DF  result_deepfake__Meso_Inc_F2F     Depth  \\\n",
       "0                      0.947555                       0.947555  0.734380   \n",
       "1                      0.985180                       0.985180  0.415671   \n",
       "2                      0.992169                       0.992169  0.551340   \n",
       "3                      0.192587                       0.192587  0.265878   \n",
       "4                      0.255806                       0.255806  0.700852   \n",
       "\n",
       "   Patch_Surf  Patch_Fasd  Binary_Supervision  Label  \n",
       "0    0.500000    0.166667            0.809298      1  \n",
       "1    0.500000    0.083333            0.891896      1  \n",
       "2    0.416667    0.166667            0.747742      1  \n",
       "3    0.583333    0.333333            0.762917      1  \n",
       "4    0.750000    0.250000            0.884715      1  "
      ]
     },
     "execution_count": 26,
     "metadata": {},
     "output_type": "execute_result"
    }
   ],
   "source": [
    "df.head()"
   ]
  },
  {
   "cell_type": "code",
   "execution_count": 27,
   "id": "3bcea376",
   "metadata": {},
   "outputs": [
    {
     "ename": "ValueError",
     "evalue": "No axis named 1 for object type Series",
     "output_type": "error",
     "traceback": [
      "\u001b[1;31m---------------------------------------------------------------------------\u001b[0m",
      "\u001b[1;31mKeyError\u001b[0m                                  Traceback (most recent call last)",
      "\u001b[1;32m~\\anaconda3\\lib\\site-packages\\pandas\\core\\generic.py\u001b[0m in \u001b[0;36m_get_axis_number\u001b[1;34m(cls, axis)\u001b[0m\n\u001b[0;32m    459\u001b[0m         \u001b[1;32mtry\u001b[0m\u001b[1;33m:\u001b[0m\u001b[1;33m\u001b[0m\u001b[1;33m\u001b[0m\u001b[0m\n\u001b[1;32m--> 460\u001b[1;33m             \u001b[1;32mreturn\u001b[0m \u001b[0mcls\u001b[0m\u001b[1;33m.\u001b[0m\u001b[0m_AXIS_TO_AXIS_NUMBER\u001b[0m\u001b[1;33m[\u001b[0m\u001b[0maxis\u001b[0m\u001b[1;33m]\u001b[0m\u001b[1;33m\u001b[0m\u001b[1;33m\u001b[0m\u001b[0m\n\u001b[0m\u001b[0;32m    461\u001b[0m         \u001b[1;32mexcept\u001b[0m \u001b[0mKeyError\u001b[0m\u001b[1;33m:\u001b[0m\u001b[1;33m\u001b[0m\u001b[1;33m\u001b[0m\u001b[0m\n",
      "\u001b[1;31mKeyError\u001b[0m: 1",
      "\nDuring handling of the above exception, another exception occurred:\n",
      "\u001b[1;31mValueError\u001b[0m                                Traceback (most recent call last)",
      "\u001b[1;32m<ipython-input-27-a41f95fb7f98>\u001b[0m in \u001b[0;36m<module>\u001b[1;34m\u001b[0m\n\u001b[0;32m      1\u001b[0m \u001b[0mtrain_v\u001b[0m \u001b[1;33m=\u001b[0m \u001b[0mtrain\u001b[0m\u001b[1;33m.\u001b[0m\u001b[0mdrop\u001b[0m\u001b[1;33m(\u001b[0m\u001b[1;33m[\u001b[0m\u001b[1;34m'result_deepfake__Meso_4_F2F'\u001b[0m\u001b[1;33m,\u001b[0m\u001b[1;34m'result_deepfake__Meso_Inc_DF'\u001b[0m\u001b[1;33m,\u001b[0m\u001b[1;34m'result_deepfake__Meso_Inc_F2F'\u001b[0m\u001b[1;33m]\u001b[0m\u001b[1;33m,\u001b[0m \u001b[0maxis\u001b[0m\u001b[1;33m=\u001b[0m\u001b[1;36m1\u001b[0m\u001b[1;33m)\u001b[0m\u001b[1;33m\u001b[0m\u001b[1;33m\u001b[0m\u001b[0m\n\u001b[1;32m----> 2\u001b[1;33m \u001b[0mtest_v\u001b[0m \u001b[1;33m=\u001b[0m \u001b[0mtest\u001b[0m\u001b[1;33m.\u001b[0m\u001b[0mdrop\u001b[0m\u001b[1;33m(\u001b[0m\u001b[1;33m[\u001b[0m\u001b[1;34m'result_deepfake__Meso_4_F2F'\u001b[0m\u001b[1;33m,\u001b[0m\u001b[1;34m'result_deepfake__Meso_Inc_DF'\u001b[0m\u001b[1;33m,\u001b[0m\u001b[1;34m'result_deepfake__Meso_Inc_F2F'\u001b[0m\u001b[1;33m]\u001b[0m\u001b[1;33m,\u001b[0m \u001b[0maxis\u001b[0m\u001b[1;33m=\u001b[0m\u001b[1;36m1\u001b[0m\u001b[1;33m)\u001b[0m\u001b[1;33m\u001b[0m\u001b[1;33m\u001b[0m\u001b[0m\n\u001b[0m",
      "\u001b[1;32m~\\anaconda3\\lib\\site-packages\\pandas\\core\\series.py\u001b[0m in \u001b[0;36mdrop\u001b[1;34m(self, labels, axis, index, columns, level, inplace, errors)\u001b[0m\n\u001b[0;32m   4441\u001b[0m         \u001b[0mdtype\u001b[0m\u001b[1;33m:\u001b[0m \u001b[0mfloat64\u001b[0m\u001b[1;33m\u001b[0m\u001b[1;33m\u001b[0m\u001b[0m\n\u001b[0;32m   4442\u001b[0m         \"\"\"\n\u001b[1;32m-> 4443\u001b[1;33m         return super().drop(\n\u001b[0m\u001b[0;32m   4444\u001b[0m             \u001b[0mlabels\u001b[0m\u001b[1;33m=\u001b[0m\u001b[0mlabels\u001b[0m\u001b[1;33m,\u001b[0m\u001b[1;33m\u001b[0m\u001b[1;33m\u001b[0m\u001b[0m\n\u001b[0;32m   4445\u001b[0m             \u001b[0maxis\u001b[0m\u001b[1;33m=\u001b[0m\u001b[0maxis\u001b[0m\u001b[1;33m,\u001b[0m\u001b[1;33m\u001b[0m\u001b[1;33m\u001b[0m\u001b[0m\n",
      "\u001b[1;32m~\\anaconda3\\lib\\site-packages\\pandas\\core\\generic.py\u001b[0m in \u001b[0;36mdrop\u001b[1;34m(self, labels, axis, index, columns, level, inplace, errors)\u001b[0m\n\u001b[0;32m   4138\u001b[0m             \u001b[1;32mif\u001b[0m \u001b[0mindex\u001b[0m \u001b[1;32mis\u001b[0m \u001b[1;32mnot\u001b[0m \u001b[1;32mNone\u001b[0m \u001b[1;32mor\u001b[0m \u001b[0mcolumns\u001b[0m \u001b[1;32mis\u001b[0m \u001b[1;32mnot\u001b[0m \u001b[1;32mNone\u001b[0m\u001b[1;33m:\u001b[0m\u001b[1;33m\u001b[0m\u001b[1;33m\u001b[0m\u001b[0m\n\u001b[0;32m   4139\u001b[0m                 \u001b[1;32mraise\u001b[0m \u001b[0mValueError\u001b[0m\u001b[1;33m(\u001b[0m\u001b[1;34m\"Cannot specify both 'labels' and 'index'/'columns'\"\u001b[0m\u001b[1;33m)\u001b[0m\u001b[1;33m\u001b[0m\u001b[1;33m\u001b[0m\u001b[0m\n\u001b[1;32m-> 4140\u001b[1;33m             \u001b[0maxis_name\u001b[0m \u001b[1;33m=\u001b[0m \u001b[0mself\u001b[0m\u001b[1;33m.\u001b[0m\u001b[0m_get_axis_name\u001b[0m\u001b[1;33m(\u001b[0m\u001b[0maxis\u001b[0m\u001b[1;33m)\u001b[0m\u001b[1;33m\u001b[0m\u001b[1;33m\u001b[0m\u001b[0m\n\u001b[0m\u001b[0;32m   4141\u001b[0m             \u001b[0maxes\u001b[0m \u001b[1;33m=\u001b[0m \u001b[1;33m{\u001b[0m\u001b[0maxis_name\u001b[0m\u001b[1;33m:\u001b[0m \u001b[0mlabels\u001b[0m\u001b[1;33m}\u001b[0m\u001b[1;33m\u001b[0m\u001b[1;33m\u001b[0m\u001b[0m\n\u001b[0;32m   4142\u001b[0m         \u001b[1;32melif\u001b[0m \u001b[0mindex\u001b[0m \u001b[1;32mis\u001b[0m \u001b[1;32mnot\u001b[0m \u001b[1;32mNone\u001b[0m \u001b[1;32mor\u001b[0m \u001b[0mcolumns\u001b[0m \u001b[1;32mis\u001b[0m \u001b[1;32mnot\u001b[0m \u001b[1;32mNone\u001b[0m\u001b[1;33m:\u001b[0m\u001b[1;33m\u001b[0m\u001b[1;33m\u001b[0m\u001b[0m\n",
      "\u001b[1;32m~\\anaconda3\\lib\\site-packages\\pandas\\core\\generic.py\u001b[0m in \u001b[0;36m_get_axis_name\u001b[1;34m(cls, axis)\u001b[0m\n\u001b[0;32m    465\u001b[0m     \u001b[1;33m@\u001b[0m\u001b[0mclassmethod\u001b[0m\u001b[1;33m\u001b[0m\u001b[1;33m\u001b[0m\u001b[0m\n\u001b[0;32m    466\u001b[0m     \u001b[1;32mdef\u001b[0m \u001b[0m_get_axis_name\u001b[0m\u001b[1;33m(\u001b[0m\u001b[0mcls\u001b[0m\u001b[1;33m,\u001b[0m \u001b[0maxis\u001b[0m\u001b[1;33m:\u001b[0m \u001b[0mAxis\u001b[0m\u001b[1;33m)\u001b[0m \u001b[1;33m->\u001b[0m \u001b[0mstr\u001b[0m\u001b[1;33m:\u001b[0m\u001b[1;33m\u001b[0m\u001b[1;33m\u001b[0m\u001b[0m\n\u001b[1;32m--> 467\u001b[1;33m         \u001b[0maxis_number\u001b[0m \u001b[1;33m=\u001b[0m \u001b[0mcls\u001b[0m\u001b[1;33m.\u001b[0m\u001b[0m_get_axis_number\u001b[0m\u001b[1;33m(\u001b[0m\u001b[0maxis\u001b[0m\u001b[1;33m)\u001b[0m\u001b[1;33m\u001b[0m\u001b[1;33m\u001b[0m\u001b[0m\n\u001b[0m\u001b[0;32m    468\u001b[0m         \u001b[1;32mreturn\u001b[0m \u001b[0mcls\u001b[0m\u001b[1;33m.\u001b[0m\u001b[0m_AXIS_ORDERS\u001b[0m\u001b[1;33m[\u001b[0m\u001b[0maxis_number\u001b[0m\u001b[1;33m]\u001b[0m\u001b[1;33m\u001b[0m\u001b[1;33m\u001b[0m\u001b[0m\n\u001b[0;32m    469\u001b[0m \u001b[1;33m\u001b[0m\u001b[0m\n",
      "\u001b[1;32m~\\anaconda3\\lib\\site-packages\\pandas\\core\\generic.py\u001b[0m in \u001b[0;36m_get_axis_number\u001b[1;34m(cls, axis)\u001b[0m\n\u001b[0;32m    460\u001b[0m             \u001b[1;32mreturn\u001b[0m \u001b[0mcls\u001b[0m\u001b[1;33m.\u001b[0m\u001b[0m_AXIS_TO_AXIS_NUMBER\u001b[0m\u001b[1;33m[\u001b[0m\u001b[0maxis\u001b[0m\u001b[1;33m]\u001b[0m\u001b[1;33m\u001b[0m\u001b[1;33m\u001b[0m\u001b[0m\n\u001b[0;32m    461\u001b[0m         \u001b[1;32mexcept\u001b[0m \u001b[0mKeyError\u001b[0m\u001b[1;33m:\u001b[0m\u001b[1;33m\u001b[0m\u001b[1;33m\u001b[0m\u001b[0m\n\u001b[1;32m--> 462\u001b[1;33m             \u001b[1;32mraise\u001b[0m \u001b[0mValueError\u001b[0m\u001b[1;33m(\u001b[0m\u001b[1;34mf\"No axis named {axis} for object type {cls.__name__}\"\u001b[0m\u001b[1;33m)\u001b[0m\u001b[1;33m\u001b[0m\u001b[1;33m\u001b[0m\u001b[0m\n\u001b[0m\u001b[0;32m    463\u001b[0m \u001b[1;33m\u001b[0m\u001b[0m\n\u001b[0;32m    464\u001b[0m     \u001b[1;33m@\u001b[0m\u001b[0mfinal\u001b[0m\u001b[1;33m\u001b[0m\u001b[1;33m\u001b[0m\u001b[0m\n",
      "\u001b[1;31mValueError\u001b[0m: No axis named 1 for object type Series"
     ]
    }
   ],
   "source": [
    "train_v = train.drop(['result_deepfake__Meso_4_F2F','result_deepfake__Meso_Inc_DF','result_deepfake__Meso_Inc_F2F'], axis=1)\n",
    "test_v = test.drop(['result_deepfake__Meso_4_F2F','result_deepfake__Meso_Inc_DF','result_deepfake__Meso_Inc_F2F'], axis=1)"
   ]
  },
  {
   "cell_type": "code",
   "execution_count": null,
   "id": "33eda7db",
   "metadata": {},
   "outputs": [],
   "source": [
    "X_train = train_v.drop(['Train_Test','Label'], axis=1)\n",
    "y_train = train_v['Label']"
   ]
  },
  {
   "cell_type": "code",
   "execution_count": null,
   "id": "a0942024",
   "metadata": {},
   "outputs": [],
   "source": [
    "X_test = test_v.drop(['Train_Test','Label'], axis=1)\n",
    "y_test = test_v['Label']"
   ]
  },
  {
   "cell_type": "code",
   "execution_count": null,
   "id": "8cc84f35",
   "metadata": {},
   "outputs": [],
   "source": [
    "import xgboost as xgb"
   ]
  },
  {
   "cell_type": "code",
   "execution_count": null,
   "id": "ee980ee2",
   "metadata": {},
   "outputs": [],
   "source": [
    "param_grid = {\"subsample\":[0.5, 0.75, 1],\n",
    "            \"colsample_bytree\":[0.5, 0.75, 1],\n",
    "            \"max_depth\":[2, 6, 12],\n",
    "            \"min_child_weight\":[1,5,15],\n",
    "            \"learning_rate\":[0.3, 0.1, 0.03],\n",
    "            \"n_estimators\":[25,50,100]}\n",
    "\n",
    "eval_set = [(X_train, y_train),(X_test,y_test)]"
   ]
  },
  {
   "cell_type": "code",
   "execution_count": null,
   "id": "e70692b7",
   "metadata": {},
   "outputs": [],
   "source": [
    "xg = xgb.XGBClassifier()\n",
    "grid_xg = GridSearchCV(xg,param_grid=param_grid,cv=3,scoring=\"accuracy\")"
   ]
  },
  {
   "cell_type": "code",
   "execution_count": null,
   "id": "53e7ea22",
   "metadata": {},
   "outputs": [],
   "source": [
    "grid_xg.fit(X_train,y_train,early_stopping_rounds=10, eval_metric=\"error\",eval_set=eval_set,verbose =0)"
   ]
  },
  {
   "cell_type": "code",
   "execution_count": null,
   "id": "8e1bbbbe",
   "metadata": {},
   "outputs": [],
   "source": [
    "pred = grid_xg.predict(X_test)"
   ]
  },
  {
   "cell_type": "code",
   "execution_count": null,
   "id": "49bbd405",
   "metadata": {},
   "outputs": [],
   "source": [
    "print(classification_report(y_test,pred))"
   ]
  },
  {
   "cell_type": "code",
   "execution_count": null,
   "id": "7bd10709",
   "metadata": {},
   "outputs": [],
   "source": [
    "feature_importances = grid_xg.best_estimator_.feature_importances_\n",
    "feature_importances"
   ]
  },
  {
   "cell_type": "markdown",
   "id": "6c4619a9",
   "metadata": {},
   "source": [
    "## XGBoost (only Meso_4_DF and Patch_Fasd)"
   ]
  },
  {
   "cell_type": "code",
   "execution_count": null,
   "id": "6f0a1745",
   "metadata": {},
   "outputs": [],
   "source": [
    "train_v = train.drop(['result_deepfake__Meso_4_F2F','result_deepfake__Meso_Inc_DF','result_deepfake__Meso_Inc_F2F','Patch_Surf'], axis=1)\n",
    "test_v = test.drop(['result_deepfake__Meso_4_F2F','result_deepfake__Meso_Inc_DF','result_deepfake__Meso_Inc_F2F','Patch_Surf'], axis=1)\n",
    "\n",
    "X_train = train_v.drop(['Train_Test','Label'], axis=1)\n",
    "y_train = train_v['Label']\n",
    "\n",
    "X_test = test_v.drop(['Train_Test','Label'], axis=1)\n",
    "y_test = test_v['Label']"
   ]
  },
  {
   "cell_type": "code",
   "execution_count": null,
   "id": "10776fca",
   "metadata": {},
   "outputs": [],
   "source": [
    "eval_set = [(X_train, y_train),(X_test,y_test)]"
   ]
  },
  {
   "cell_type": "code",
   "execution_count": null,
   "id": "4ef9df88",
   "metadata": {},
   "outputs": [],
   "source": [
    "xg2 = xgb.XGBClassifier()\n",
    "grid_xg2 = GridSearchCV(xg2,param_grid=param_grid,cv=3,scoring=\"accuracy\")"
   ]
  },
  {
   "cell_type": "code",
   "execution_count": null,
   "id": "3c41b83a",
   "metadata": {},
   "outputs": [],
   "source": [
    "grid_xg2.fit(X_train,y_train,early_stopping_rounds=10, eval_metric=\"error\",eval_set=eval_set,verbose =0)"
   ]
  },
  {
   "cell_type": "code",
   "execution_count": null,
   "id": "bbb7cb90",
   "metadata": {},
   "outputs": [],
   "source": [
    "pred2 = grid_xg2.predict(X_test)"
   ]
  },
  {
   "cell_type": "code",
   "execution_count": null,
   "id": "19c297de",
   "metadata": {},
   "outputs": [],
   "source": [
    "print(classification_report(y_test,pred2))"
   ]
  },
  {
   "cell_type": "markdown",
   "id": "ed8f63b2",
   "metadata": {},
   "source": [
    "## Gradient Boosting (only Meso_4_DF and Patch_Fasd)"
   ]
  },
  {
   "cell_type": "code",
   "execution_count": null,
   "id": "b316cb75",
   "metadata": {},
   "outputs": [],
   "source": [
    "from sklearn.ensemble import GradientBoostingClassifier"
   ]
  },
  {
   "cell_type": "code",
   "execution_count": null,
   "id": "a05bf281",
   "metadata": {},
   "outputs": [],
   "source": [
    "params = {\"n_estimators\":[1,5,10,20,40,100],'max_depth':[3,4,5,6]}"
   ]
  },
  {
   "cell_type": "code",
   "execution_count": null,
   "id": "d1a37f49",
   "metadata": {},
   "outputs": [],
   "source": [
    "gbmodel = GradientBoostingClassifier()\n",
    "grid = GridSearchCV(gbmodel,params)"
   ]
  },
  {
   "cell_type": "code",
   "execution_count": null,
   "id": "41fc8bb4",
   "metadata": {},
   "outputs": [],
   "source": [
    "grid.fit(X_train,y_train)"
   ]
  },
  {
   "cell_type": "code",
   "execution_count": null,
   "id": "1af154bf",
   "metadata": {},
   "outputs": [],
   "source": [
    "predictions = grid.predict(X_test)"
   ]
  },
  {
   "cell_type": "code",
   "execution_count": null,
   "id": "a738a174",
   "metadata": {},
   "outputs": [],
   "source": [
    "print(classification_report(y_test, predictions))"
   ]
  },
  {
   "cell_type": "markdown",
   "id": "9dfa592b",
   "metadata": {},
   "source": [
    "## XGBoost (only Meso_4_F2F and Patch_Fasd)"
   ]
  },
  {
   "cell_type": "code",
   "execution_count": null,
   "id": "df906a9f",
   "metadata": {},
   "outputs": [],
   "source": [
    "train_v = train.drop(['result_deepfake__Meso_4_DF','result_deepfake__Meso_Inc_DF','result_deepfake__Meso_Inc_F2F','Patch_Surf'], axis=1)\n",
    "test_v = test.drop(['result_deepfake__Meso_4_DF','result_deepfake__Meso_Inc_DF','result_deepfake__Meso_Inc_F2F','Patch_Surf'], axis=1)"
   ]
  },
  {
   "cell_type": "code",
   "execution_count": null,
   "id": "6fbccf48",
   "metadata": {},
   "outputs": [],
   "source": [
    "X_train = train_v.drop(['Train_Test','Label'], axis=1)\n",
    "y_train = train_v['Label']\n",
    "\n",
    "X_test = test_v.drop(['Train_Test','Label'], axis=1)\n",
    "y_test = test_v['Label']"
   ]
  },
  {
   "cell_type": "code",
   "execution_count": null,
   "id": "8f5bc2ab",
   "metadata": {},
   "outputs": [],
   "source": [
    "xg = xgb.XGBClassifier()\n",
    "grid_xg = GridSearchCV(xg,param_grid=param_grid,cv=5,scoring=\"accuracy\")"
   ]
  },
  {
   "cell_type": "code",
   "execution_count": null,
   "id": "610d9b04",
   "metadata": {},
   "outputs": [],
   "source": [
    "eval_set = [(X_train, y_train),(X_test,y_test)]"
   ]
  },
  {
   "cell_type": "code",
   "execution_count": null,
   "id": "e1eaebad",
   "metadata": {},
   "outputs": [],
   "source": [
    "grid_xg.fit(X_train,y_train,early_stopping_rounds=10, eval_metric=\"error\",eval_set=eval_set,verbose =0)"
   ]
  },
  {
   "cell_type": "code",
   "execution_count": null,
   "id": "2f1a85e8",
   "metadata": {},
   "outputs": [],
   "source": [
    "preds = grid_xg.predict(X_test)"
   ]
  },
  {
   "cell_type": "code",
   "execution_count": null,
   "id": "f3685c56",
   "metadata": {},
   "outputs": [],
   "source": [
    "print(classification_report(y_test,preds))"
   ]
  },
  {
   "cell_type": "markdown",
   "id": "8c8e4cae",
   "metadata": {},
   "source": [
    "## Gradient Boosting (only Meso_4_F2F and Patch_Surf)"
   ]
  },
  {
   "cell_type": "code",
   "execution_count": null,
   "id": "8fab8786",
   "metadata": {},
   "outputs": [],
   "source": [
    "train_v = train.drop(['result_deepfake__Meso_4_DF','result_deepfake__Meso_Inc_DF','result_deepfake__Meso_Inc_F2F','Patch_Fasd'], axis=1)\n",
    "test_v = test.drop(['result_deepfake__Meso_4_DF','result_deepfake__Meso_Inc_DF','result_deepfake__Meso_Inc_F2F','Patch_Fasd'], axis=1)"
   ]
  },
  {
   "cell_type": "code",
   "execution_count": null,
   "id": "433ba6c9",
   "metadata": {},
   "outputs": [],
   "source": [
    "X_train = train_v.drop(['Train_Test','Label'], axis=1)\n",
    "y_train = train_v['Label']\n",
    "\n",
    "X_test = test_v.drop(['Train_Test','Label'], axis=1)\n",
    "y_test = test_v['Label']"
   ]
  },
  {
   "cell_type": "code",
   "execution_count": null,
   "id": "32d9616c",
   "metadata": {},
   "outputs": [],
   "source": [
    "gbmodel = GradientBoostingClassifier()\n",
    "grid_gb = GridSearchCV(gbmodel,params)"
   ]
  },
  {
   "cell_type": "code",
   "execution_count": null,
   "id": "ef5f7cc9",
   "metadata": {},
   "outputs": [],
   "source": [
    "grid_gb.fit(X_train, y_train)"
   ]
  },
  {
   "cell_type": "code",
   "execution_count": null,
   "id": "68aedb20",
   "metadata": {},
   "outputs": [],
   "source": [
    "prediction = grid_gb.predict(X_test)"
   ]
  },
  {
   "cell_type": "code",
   "execution_count": null,
   "id": "a122068f",
   "metadata": {},
   "outputs": [],
   "source": [
    "print(classification_report(y_test,prediction))"
   ]
  },
  {
   "cell_type": "markdown",
   "id": "6f23bc8a",
   "metadata": {},
   "source": [
    "## XGBoost (only Meso_Inc_F2F)"
   ]
  },
  {
   "cell_type": "code",
   "execution_count": null,
   "id": "87e5c49e",
   "metadata": {},
   "outputs": [],
   "source": [
    "train_v = X_train.drop(['result_deepfake__Meso_4_DF','result_deepfake__Meso_Inc_F2F','result_deepfake__Meso_Inc_DF'], axis=1)\n",
    "test_v = X_test.drop(['result_deepfake__Meso_4_DF','result_deepfake__Meso_Inc_F2F','result_deepfake__Meso_Inc_DF'], axis=1)"
   ]
  },
  {
   "cell_type": "code",
   "execution_count": null,
   "id": "cc14562a",
   "metadata": {},
   "outputs": [],
   "source": [
    "train_v"
   ]
  },
  {
   "cell_type": "code",
   "execution_count": null,
   "id": "900b52af",
   "metadata": {},
   "outputs": [],
   "source": [
    "test_v"
   ]
  },
  {
   "cell_type": "code",
   "execution_count": null,
   "id": "4d19fc39",
   "metadata": {},
   "outputs": [],
   "source": [
    "X_train = train_v.drop(['Train_Test','Label'], axis=1)\n",
    "y_train = train_v['Label']\n",
    "\n",
    "X_test = test_v.drop(['Train_Test','Label'], axis=1)\n",
    "y_test = test_v['Label']\n",
    "\n",
    "eval_set = [(X_train, y_train),(X_test,y_test)]"
   ]
  },
  {
   "cell_type": "code",
   "execution_count": null,
   "id": "b785f2a2",
   "metadata": {},
   "outputs": [],
   "source": [
    "xg = xgb.XGBClassifier()\n",
    "grid_xg = GridSearchCV(xg,param_grid=param_grid,cv=10,scoring=\"accuracy\")"
   ]
  },
  {
   "cell_type": "code",
   "execution_count": null,
   "id": "47955894",
   "metadata": {},
   "outputs": [],
   "source": [
    "grid_xg.fit(X_train,y_train,early_stopping_rounds=10, eval_metric=\"error\",eval_set=eval_set,verbose =0)"
   ]
  },
  {
   "cell_type": "code",
   "execution_count": null,
   "id": "b91e124a",
   "metadata": {},
   "outputs": [],
   "source": [
    "predictions = grid_xg.predict(X_test)"
   ]
  },
  {
   "cell_type": "code",
   "execution_count": null,
   "id": "5de7204c",
   "metadata": {},
   "outputs": [],
   "source": [
    "print(classification_report(y_test,predictions))"
   ]
  },
  {
   "cell_type": "code",
   "execution_count": null,
   "id": "fa04d50d",
   "metadata": {},
   "outputs": [],
   "source": [
    "from sklearn.svm import SVC"
   ]
  },
  {
   "cell_type": "code",
   "execution_count": null,
   "id": "84f70af9",
   "metadata": {},
   "outputs": [],
   "source": [
    "param_grid_svc = {'C':[0.01,0.1,1],'kernel':['linear','rbf']}"
   ]
  },
  {
   "cell_type": "code",
   "execution_count": null,
   "id": "382f97b1",
   "metadata": {},
   "outputs": [],
   "source": [
    "svm = SVC()\n",
    "grid_svc = GridSearchCV(svm,param_grid_svc, cv=10)"
   ]
  },
  {
   "cell_type": "code",
   "execution_count": null,
   "id": "d69ae9c8",
   "metadata": {},
   "outputs": [],
   "source": [
    "grid_svc.fit(X_train,y_train)"
   ]
  },
  {
   "cell_type": "code",
   "execution_count": null,
   "id": "2a23fffb",
   "metadata": {},
   "outputs": [],
   "source": [
    "preds = grid_svc.predict(X_test)"
   ]
  },
  {
   "cell_type": "code",
   "execution_count": null,
   "id": "af479ab3",
   "metadata": {},
   "outputs": [],
   "source": [
    "print(classification_report(y_test,preds))"
   ]
  },
  {
   "cell_type": "code",
   "execution_count": null,
   "id": "3009d8dd",
   "metadata": {},
   "outputs": [],
   "source": []
  }
 ],
 "metadata": {
  "kernelspec": {
   "display_name": "Python 3",
   "language": "python",
   "name": "python3"
  },
  "language_info": {
   "codemirror_mode": {
    "name": "ipython",
    "version": 3
   },
   "file_extension": ".py",
   "mimetype": "text/x-python",
   "name": "python",
   "nbconvert_exporter": "python",
   "pygments_lexer": "ipython3",
   "version": "3.8.8"
  }
 },
 "nbformat": 4,
 "nbformat_minor": 5
}
